{
 "cells": [
  {
   "cell_type": "markdown",
   "id": "09ab04d1-daeb-4bae-8924-f1f81ef112f3",
   "metadata": {},
   "source": [
    "## Cleaning the data before using AI to classify it\n",
    "https://github.com/the-legal-aid-society/LELU/tree/main/nypd_internal\n",
    "\n",
    "This data comes from the Legal Aid Society's Law Enforcement Lookup Tool.\n",
    "https://legalaidnyc.org/law-enforcement-look-up/\n",
    "\n",
    "According to the lookup tool, the data on this tab comes from  NYPD Internal records of officer misconduct. Some of those records can be found here: https://nypdonline.org/link/personnel. \n",
    "\n",
    "Legal Aid updates their table updated weekly, which includes:\n",
    "\n",
    "Internal Affairs Bureau (IAB) Investigation reports of police misconduct obtained by Legal Aid Society, other public defender organizations, and Buzzfeed.\n",
    "\n",
    "Data scraped from the NYPD Trial Decision Library, which contains both guilty and not guilty decisions from the NYPD Trial Room.\n",
    "\n",
    "Central Personnel Indices of police misconduct obtained by Legal Aid Society and other public defender organizations.\n",
    "\n",
    "NYPD Internal investigations, as scraped from the NYPD Officer Profile and obtained by Legal Aid. Where available, links to Employment History summaries may contain information on internal investigations not reported by other sources.\n",
    "\n",
    "The data I use here was downloaded on July 7, 2025."
   ]
  },
  {
   "cell_type": "code",
   "execution_count": 2,
   "id": "8955afbe-fd6d-4746-80f6-6d49462ce8f7",
   "metadata": {},
   "outputs": [],
   "source": [
    "import pandas as pd\n",
    "import numpy as np"
   ]
  },
  {
   "cell_type": "code",
   "execution_count": 3,
   "id": "40f9c1a4-6ca1-4760-b6c9-587cc1a9e21b",
   "metadata": {},
   "outputs": [],
   "source": [
    "df = pd.read_csv('nypd_internal.tsv',sep = '\\t',na_values=[\"NA\"])"
   ]
  },
  {
   "cell_type": "code",
   "execution_count": 6,
   "id": "3d72d8ff-42b1-4175-a198-a296282d6d0b",
   "metadata": {},
   "outputs": [],
   "source": [
    "null_tax = df['Tax..'].isnull().sum()"
   ]
  },
  {
   "cell_type": "code",
   "execution_count": 10,
   "id": "ae0d3375-66be-4f15-aadd-680b1bfc29a3",
   "metadata": {},
   "outputs": [
    {
     "data": {
      "text/plain": [
       "np.int64(2105)"
      ]
     },
     "execution_count": 10,
     "metadata": {},
     "output_type": "execute_result"
    }
   ],
   "source": [
    "null_tax"
   ]
  },
  {
   "cell_type": "code",
   "execution_count": 9,
   "id": "f70aeef4-f0c8-44d6-a705-e9f309c322a0",
   "metadata": {},
   "outputs": [
    {
     "data": {
      "text/plain": [
       "10360"
      ]
     },
     "execution_count": 9,
     "metadata": {},
     "output_type": "execute_result"
    }
   ],
   "source": [
    "len(df)"
   ]
  },
  {
   "cell_type": "markdown",
   "id": "72b273dd-895a-4f8d-8efc-b0095bc17b01",
   "metadata": {},
   "source": [
    "had to look up here how to read in tsv. Tsv is sourced from the Legal Aid society that scraped it"
   ]
  },
  {
   "cell_type": "code",
   "execution_count": 5,
   "id": "a627b88b-5eff-4a3d-bdcc-fae4582e3ec8",
   "metadata": {},
   "outputs": [
    {
     "data": {
      "text/plain": [
       "6303"
      ]
     },
     "execution_count": 5,
     "metadata": {},
     "output_type": "execute_result"
    }
   ],
   "source": [
    "df[\"Officer.Name\"].nunique()"
   ]
  },
  {
   "cell_type": "code",
   "execution_count": 12,
   "id": "22aa370a-9af9-486f-9a0f-0e46c2a8a8c0",
   "metadata": {},
   "outputs": [
    {
     "data": {
      "text/plain": [
       "np.int64(5826)"
      ]
     },
     "execution_count": 12,
     "metadata": {},
     "output_type": "execute_result"
    }
   ],
   "source": [
    "df['Charge.description'].isna().sum()"
   ]
  },
  {
   "cell_type": "code",
   "execution_count": 4,
   "id": "016d4bd4-f844-4632-92fd-dcb7066ab8f0",
   "metadata": {},
   "outputs": [
    {
     "data": {
      "text/plain": [
       "3918"
      ]
     },
     "execution_count": 4,
     "metadata": {},
     "output_type": "execute_result"
    }
   ],
   "source": [
    "df[\"Tax..\"].nunique()"
   ]
  },
  {
   "cell_type": "code",
   "execution_count": 15,
   "id": "132adf68-7f95-4edf-987c-a363cc084c9c",
   "metadata": {},
   "outputs": [],
   "source": [
    "descriptions = df.dropna(subset=['Charge.description'])"
   ]
  },
  {
   "cell_type": "code",
   "execution_count": 16,
   "id": "933d105c-9930-4011-bd08-dfc1baaf0ea0",
   "metadata": {},
   "outputs": [
    {
     "data": {
      "text/plain": [
       "10360"
      ]
     },
     "execution_count": 16,
     "metadata": {},
     "output_type": "execute_result"
    }
   ],
   "source": [
    "len(df)"
   ]
  },
  {
   "cell_type": "code",
   "execution_count": 17,
   "id": "7287a3d7-140f-4800-aff8-5cb2430a00d8",
   "metadata": {},
   "outputs": [
    {
     "data": {
      "text/plain": [
       "Index(['Officer.Name', 'Type', 'Shield..', 'Tax..', 'Precinct.Command',\n",
       "       'Document', 'Case..', 'Charge.description', 'Disposition', 'Penalty'],\n",
       "      dtype='object')"
      ]
     },
     "execution_count": 17,
     "metadata": {},
     "output_type": "execute_result"
    }
   ],
   "source": [
    "df.columns"
   ]
  },
  {
   "cell_type": "code",
   "execution_count": 18,
   "id": "56d85cc3-558f-49af-a846-88842bf89504",
   "metadata": {},
   "outputs": [],
   "source": [
    "df = df.rename(columns={\"Case..\": \"Case\"})"
   ]
  },
  {
   "cell_type": "code",
   "execution_count": 19,
   "id": "c9a2d13a-026c-43ed-b35f-0bc25b1b41f7",
   "metadata": {},
   "outputs": [
    {
     "data": {
      "text/plain": [
       "Index(['Officer.Name', 'Type', 'Shield..', 'Tax..', 'Precinct.Command',\n",
       "       'Document', 'Case', 'Charge.description', 'Disposition', 'Penalty'],\n",
       "      dtype='object')"
      ]
     },
     "execution_count": 19,
     "metadata": {},
     "output_type": "execute_result"
    }
   ],
   "source": [
    "df.columns"
   ]
  },
  {
   "cell_type": "code",
   "execution_count": 20,
   "id": "c693710d-7a4f-4b13-b5a8-f0d5f9ff943d",
   "metadata": {},
   "outputs": [
    {
     "data": {
      "text/plain": [
       "3836"
      ]
     },
     "execution_count": 20,
     "metadata": {},
     "output_type": "execute_result"
    }
   ],
   "source": [
    "df[\"Case\"].nunique()"
   ]
  },
  {
   "cell_type": "code",
   "execution_count": 21,
   "id": "a46f7a00-6243-43a0-8fd9-3ec56c93bcc1",
   "metadata": {},
   "outputs": [
    {
     "data": {
      "text/plain": [
       "Disposition\n",
       "NaN               5826\n",
       "GUILTY            4294\n",
       "PLEADED GUILTY     214\n",
       "NOLO CONTENDRE      26\n",
       "Name: count, dtype: int64"
      ]
     },
     "execution_count": 21,
     "metadata": {},
     "output_type": "execute_result"
    }
   ],
   "source": [
    "df.value_counts(\"Disposition\",dropna=False)"
   ]
  },
  {
   "cell_type": "code",
   "execution_count": 22,
   "id": "31f32967-1b9a-4a2a-9d22-5c7ca97e4580",
   "metadata": {},
   "outputs": [
    {
     "data": {
      "text/plain": [
       "4534"
      ]
     },
     "execution_count": 22,
     "metadata": {},
     "output_type": "execute_result"
    }
   ],
   "source": [
    "len(descriptions)"
   ]
  },
  {
   "cell_type": "code",
   "execution_count": 23,
   "id": "47967577-f4ec-4f8c-95cb-f15250af1a02",
   "metadata": {},
   "outputs": [
    {
     "data": {
      "text/plain": [
       "Disposition\n",
       "GUILTY            4294\n",
       "PLEADED GUILTY     214\n",
       "NOLO CONTENDRE      26\n",
       "Name: count, dtype: int64"
      ]
     },
     "execution_count": 23,
     "metadata": {},
     "output_type": "execute_result"
    }
   ],
   "source": [
    "descriptions.value_counts(\"Disposition\",dropna=False)"
   ]
  },
  {
   "cell_type": "code",
   "execution_count": 20,
   "id": "d9b0cf86-a9f8-4b6d-9f95-1af305775e46",
   "metadata": {},
   "outputs": [],
   "source": [
    "descriptions.to_csv('nypd_internal_cleaned.csv')"
   ]
  }
 ],
 "metadata": {
  "kernelspec": {
   "display_name": "Python 3 (ipykernel)",
   "language": "python",
   "name": "python3"
  },
  "language_info": {
   "codemirror_mode": {
    "name": "ipython",
    "version": 3
   },
   "file_extension": ".py",
   "mimetype": "text/x-python",
   "name": "python",
   "nbconvert_exporter": "python",
   "pygments_lexer": "ipython3",
   "version": "3.11.8"
  }
 },
 "nbformat": 4,
 "nbformat_minor": 5
}

{
 "cells": [
  {
   "cell_type": "markdown",
   "id": "0afd6037-e43a-426b-9771-18ffa382a912",
   "metadata": {
    "id": "0afd6037-e43a-426b-9771-18ffa382a912"
   },
   "source": [
    "# Text Classification and Quantitative Evaluation\n",
    "#### adapted from sample from Jeremy Merrill for Lede 2025\n",
    "\n",
    "\n",
    "This notebook classifies internal charges in the NYPD Discipline Library (using a Legal Aid Society database) using the OpenAI interface.\n",
    "\n",
    "It includes a cost estimation and code for quantitative evaluation (seeing how you did, then adjusting to try to do better).\n"
   ]
  },
  {
   "cell_type": "markdown",
   "id": "3e457c6e-7ab8-4257-8d20-4f3cc08a2d76",
   "metadata": {},
   "source": [
    "Data source: cleaned in a separate notebok, but original data comes from: https://github.com/the-legal-aid-society/LELU/tree/main/nypd_internal"
   ]
  },
  {
   "cell_type": "code",
   "execution_count": 1,
   "id": "e724c90a-a74e-47b3-9ce1-2c1046891a76",
   "metadata": {
    "id": "e724c90a-a74e-47b3-9ce1-2c1046891a76"
   },
   "outputs": [],
   "source": [
    "## installing relevant packages\n",
    "!pip install --quiet openai strip_tags tiktoken\n",
    "\n",
    "from dotenv import load_dotenv\n",
    "import os\n",
    "load_dotenv()\n",
    "import pandas as pd\n",
    "from openai import OpenAI\n",
    "from IPython.display import display, Markdown\n",
    "from tqdm.auto import tqdm # makes pretty progress bars\n",
    "tqdm.pandas()"
   ]
  },
  {
   "cell_type": "code",
   "execution_count": 21,
   "id": "40bd05fa-dd51-41e9-932c-81578e5bb4ce",
   "metadata": {
    "id": "40bd05fa-dd51-41e9-932c-81578e5bb4ce"
   },
   "outputs": [
    {
     "name": "stdout",
     "output_type": "stream",
     "text": [
      "True\n"
     ]
    }
   ],
   "source": [
    "## setting up API key\n",
    "\n",
    "#  # uncomment if you're running on your laptop in a datakit\n",
    "# if you're in Colab, put the API key in the Secrets (the key icon on the far left of the screen.)\n",
    "# the \"Name\" needs to be exactly `API_KEY` and you need to make sure that the Notebook Access checkbox is checked.\n",
    "\n",
    "if IN_COLAB:\n",
    "  from google.colab import userdata\n",
    "  api_key = userdata.get('OPENAI_API_KEY_LEDE')\n",
    "else:\n",
    "  load_dotenv()\n",
    "  api_key = os.environ['OPENAI_API_KEY_LEDE']\n",
    "\n",
    "print(\"OPENAI_API_KEY_LEDE\" in os.environ) \n",
    "data= pd.read_csv(\"nypd_internal_cleaned.csv\")\n",
    "\n",
    "\n",
    "SIZE_OF_SAMPLE = 50\n",
    "##\n",
    "## take a random sample to test our prompts against\n",
    "text_column_name = \"Charge.description\" \n",
    "data_sample = data.sample(n=SIZE_OF_SAMPLE)"
   ]
  },
  {
   "cell_type": "code",
   "execution_count": 22,
   "id": "wK4M1SQKTMCw",
   "metadata": {
    "colab": {
     "base_uri": "https://localhost:8080/",
     "height": 448
    },
    "id": "wK4M1SQKTMCw",
    "outputId": "dacec96b-4754-4919-e82a-0a72c59ff168"
   },
   "outputs": [
    {
     "data": {
      "text/html": [
       "<div>\n",
       "<style scoped>\n",
       "    .dataframe tbody tr th:only-of-type {\n",
       "        vertical-align: middle;\n",
       "    }\n",
       "\n",
       "    .dataframe tbody tr th {\n",
       "        vertical-align: top;\n",
       "    }\n",
       "\n",
       "    .dataframe thead th {\n",
       "        text-align: right;\n",
       "    }\n",
       "</style>\n",
       "<table border=\"1\" class=\"dataframe\">\n",
       "  <thead>\n",
       "    <tr style=\"text-align: right;\">\n",
       "      <th></th>\n",
       "      <th>Unnamed: 0</th>\n",
       "      <th>Officer.Name</th>\n",
       "      <th>Type</th>\n",
       "      <th>Shield..</th>\n",
       "      <th>Tax..</th>\n",
       "      <th>Precinct.Command</th>\n",
       "      <th>Document</th>\n",
       "      <th>Case</th>\n",
       "      <th>Charge.description</th>\n",
       "      <th>Disposition</th>\n",
       "      <th>Penalty</th>\n",
       "    </tr>\n",
       "  </thead>\n",
       "  <tbody>\n",
       "    <tr>\n",
       "      <th>3988</th>\n",
       "      <td>9111</td>\n",
       "      <td>SHIEED A HANIFF</td>\n",
       "      <td>3</td>\n",
       "      <td>NaN</td>\n",
       "      <td>944077</td>\n",
       "      <td>069-069 PRECINCT</td>\n",
       "      <td>NaN</td>\n",
       "      <td>2014-11630</td>\n",
       "      <td>WHILE OFF-DUTY, DID CONSUME AN INTOXICANT TO T...</td>\n",
       "      <td>GUILTY</td>\n",
       "      <td>COUNSELING, DISMISSAL PROBATION (12 month(s) )...</td>\n",
       "    </tr>\n",
       "    <tr>\n",
       "      <th>3770</th>\n",
       "      <td>8637</td>\n",
       "      <td>RUBEN D SANCHEZ</td>\n",
       "      <td>3</td>\n",
       "      <td>NaN</td>\n",
       "      <td>965507</td>\n",
       "      <td>860-TRANSIT BUREAU DISTRICT 1</td>\n",
       "      <td>NaN</td>\n",
       "      <td>2018-19824</td>\n",
       "      <td>Failed to safeguard a firearm (resulting in lo...</td>\n",
       "      <td>GUILTY</td>\n",
       "      <td>VACATION DAYS (10 day(s) )</td>\n",
       "    </tr>\n",
       "    <tr>\n",
       "      <th>680</th>\n",
       "      <td>1532</td>\n",
       "      <td>CHRISTOPHER ALVARADO</td>\n",
       "      <td>3</td>\n",
       "      <td>NaN</td>\n",
       "      <td>933607</td>\n",
       "      <td>083-083 PRECINCT</td>\n",
       "      <td>NaN</td>\n",
       "      <td>2017-18254</td>\n",
       "      <td>MADE FALSE/MISLEADING/INACCURATE STATEMENTS TO...</td>\n",
       "      <td>GUILTY</td>\n",
       "      <td>COUNSELING, DISMISSAL PROBATION (12 month(s) )...</td>\n",
       "    </tr>\n",
       "    <tr>\n",
       "      <th>3989</th>\n",
       "      <td>9112</td>\n",
       "      <td>SHIEED A HANIFF</td>\n",
       "      <td>3</td>\n",
       "      <td>NaN</td>\n",
       "      <td>944077</td>\n",
       "      <td>069-069 PRECINCT</td>\n",
       "      <td>NaN</td>\n",
       "      <td>2014-11630</td>\n",
       "      <td>WHILE OFF-DUTY, DID FAIL TO REMAIN AT THE SCEN...</td>\n",
       "      <td>GUILTY</td>\n",
       "      <td>COUNSELING, DISMISSAL PROBATION (12 month(s) )...</td>\n",
       "    </tr>\n",
       "    <tr>\n",
       "      <th>1653</th>\n",
       "      <td>3762</td>\n",
       "      <td>HANU J KURIAN</td>\n",
       "      <td>3</td>\n",
       "      <td>NaN</td>\n",
       "      <td>934925</td>\n",
       "      <td>043-043 PRECINCT</td>\n",
       "      <td>NaN</td>\n",
       "      <td>2014-12633</td>\n",
       "      <td>FAILED TO RESIDE WITHIN THE CITY OF NEW YORK O...</td>\n",
       "      <td>GUILTY</td>\n",
       "      <td>VACATION DAYS (35 day(s) )</td>\n",
       "    </tr>\n",
       "  </tbody>\n",
       "</table>\n",
       "</div>"
      ],
      "text/plain": [
       "      Unnamed: 0          Officer.Name  Type  Shield..   Tax..  \\\n",
       "3988        9111       SHIEED A HANIFF     3       NaN  944077   \n",
       "3770        8637       RUBEN D SANCHEZ     3       NaN  965507   \n",
       "680         1532  CHRISTOPHER ALVARADO     3       NaN  933607   \n",
       "3989        9112       SHIEED A HANIFF     3       NaN  944077   \n",
       "1653        3762         HANU J KURIAN     3       NaN  934925   \n",
       "\n",
       "                   Precinct.Command Document        Case  \\\n",
       "3988               069-069 PRECINCT      NaN  2014-11630   \n",
       "3770  860-TRANSIT BUREAU DISTRICT 1      NaN  2018-19824   \n",
       "680                083-083 PRECINCT      NaN  2017-18254   \n",
       "3989               069-069 PRECINCT      NaN  2014-11630   \n",
       "1653               043-043 PRECINCT      NaN  2014-12633   \n",
       "\n",
       "                                     Charge.description Disposition  \\\n",
       "3988  WHILE OFF-DUTY, DID CONSUME AN INTOXICANT TO T...      GUILTY   \n",
       "3770  Failed to safeguard a firearm (resulting in lo...      GUILTY   \n",
       "680   MADE FALSE/MISLEADING/INACCURATE STATEMENTS TO...      GUILTY   \n",
       "3989  WHILE OFF-DUTY, DID FAIL TO REMAIN AT THE SCEN...      GUILTY   \n",
       "1653  FAILED TO RESIDE WITHIN THE CITY OF NEW YORK O...      GUILTY   \n",
       "\n",
       "                                                Penalty  \n",
       "3988  COUNSELING, DISMISSAL PROBATION (12 month(s) )...  \n",
       "3770                         VACATION DAYS (10 day(s) )  \n",
       "680   COUNSELING, DISMISSAL PROBATION (12 month(s) )...  \n",
       "3989  COUNSELING, DISMISSAL PROBATION (12 month(s) )...  \n",
       "1653                         VACATION DAYS (35 day(s) )  "
      ]
     },
     "execution_count": 22,
     "metadata": {},
     "output_type": "execute_result"
    }
   ],
   "source": [
    "data_sample.head()"
   ]
  },
  {
   "cell_type": "code",
   "execution_count": 23,
   "id": "693aca84-52f3-4ded-bf4a-5b46edd40a08",
   "metadata": {
    "id": "693aca84-52f3-4ded-bf4a-5b46edd40a08"
   },
   "outputs": [],
   "source": [
    "\n",
    "## setting up our connection to OpenAI client\n",
    "client = OpenAI(api_key=api_key)"
   ]
  },
  {
   "cell_type": "markdown",
   "id": "727a0ee5-e3a0-4bbf-8ed7-eda9434aaf3f",
   "metadata": {
    "id": "727a0ee5-e3a0-4bbf-8ed7-eda9434aaf3f"
   },
   "source": [
    "A basic format for a prompt is below. Using the web browser of chat GPT, tweak this until you're pretty consistently getting reasonable results."
   ]
  },
  {
   "cell_type": "code",
   "execution_count": 24,
   "id": "832f53af-9169-4695-97ef-f2f74831cf9f",
   "metadata": {
    "id": "832f53af-9169-4695-97ef-f2f74831cf9f"
   },
   "outputs": [],
   "source": [
    "## initial prompt\n",
    "\n",
    "from enum import Enum, IntEnum\n",
    "\n",
    "# force the AI to ONLY guess fromn the options we ask you.\n",
    "# you can change these names! (and perhaps should!)\n",
    "class NYPDDecisionOptions(str, Enum):\n",
    "    driving = \"driving\"\n",
    "    force = \"use of force\"\n",
    "    integrity = \"lying, falsifying reports or abusing position\"\n",
    "    other = \"other\"\n",
    "\n",
    "# Be sure to list the categories with the magic phrase {categories}\n",
    "prompt_base = \"\"\"\n",
    "\n",
    "Please place this description from the NYPD Trial Decision Library decisions into one of these categories, telling me\n",
    "only the category name. Choose only from these options: {categories}\n",
    "\n",
    "{description_text}\n",
    "\"\"\"\n",
    "\n",
    "# for convenience, make a column in our dataframes with the prompt for each item\n",
    "data_sample_prompt_column = data_sample.apply(lambda row: prompt_base.format(\n",
    "    description_text=row[text_column_name],\n",
    "    categories=\", \".join(['\"{}\"'.format(opt.value) for opt in NYPDDecisionOptions])\n",
    "), axis=\"columns\")\n",
    "full_data_prompt_column = data.apply(lambda row: prompt_base.format(\n",
    "    description_text=row[text_column_name],\n",
    "    categories=\", \".join(['\"{}\"'.format(opt.value) for opt in NYPDDecisionOptions])\n",
    "), axis=\"columns\")"
   ]
  },
  {
   "cell_type": "code",
   "execution_count": 25,
   "id": "232c2396-903f-4a84-9754-887598346ed5",
   "metadata": {
    "id": "232c2396-903f-4a84-9754-887598346ed5"
   },
   "outputs": [],
   "source": [
    "## cost estimation\n",
    "\n",
    "from strip_tags import strip_tags\n",
    "import tiktoken\n",
    "def count_tokens(model, text):\n",
    "    encoding = tiktoken.encoding_for_model(model if model != 'gpt-4.1-mini' else 'gpt-4o')\n",
    "    tokens = encoding.encode(text)\n",
    "    return len(tokens)\n",
    "\n",
    "input_token_costs = {\n",
    "    \"gpt-4.1-mini\": 0.4 / 1_000_000,  # https://openai.com/api/pricing/\n",
    "    \"mistral-medium-latest\": 0.4 / 1_000_000, # https://mistral.ai/pricing#api-pricing\n",
    "    \"mistral-large-latest\": 2.0 / 1_000_000\n",
    "}\n",
    "def estimate_cost(model, token_count):\n",
    "    return token_count * input_token_costs[model]\n",
    "\n",
    "MODEL_TO_USE = 'gpt-4.1-mini'\n",
    "\n",
    "count_tokens_for_our_model = lambda text: count_tokens(MODEL_TO_USE, text)"
   ]
  },
  {
   "cell_type": "code",
   "execution_count": 26,
   "id": "98e9d4b7-c2af-49d9-8e22-953bcd564295",
   "metadata": {
    "colab": {
     "base_uri": "https://localhost:8080/",
     "height": 35
    },
    "id": "98e9d4b7-c2af-49d9-8e22-953bcd564295",
    "outputId": "efbb0f9e-b7cb-4578-bc38-ca388ffa40ed"
   },
   "outputs": [
    {
     "data": {
      "text/plain": [
       "'Sample would cost: $0.00'"
      ]
     },
     "execution_count": 26,
     "metadata": {},
     "output_type": "execute_result"
    }
   ],
   "source": [
    "## cost estimation sample\n",
    "token_count_sample = count_tokens_for_our_model(\"SAMPLE RESPONSE SAMPLE RESPONSE\".join(data_sample_prompt_column))\n",
    "\"Sample would cost: ${:.2f}\".format(estimate_cost(MODEL_TO_USE, token_count_sample))"
   ]
  },
  {
   "cell_type": "code",
   "execution_count": 27,
   "id": "eecb1ff8-065b-44b2-a08d-048b1515eb85",
   "metadata": {
    "colab": {
     "base_uri": "https://localhost:8080/",
     "height": 35
    },
    "id": "eecb1ff8-065b-44b2-a08d-048b1515eb85",
    "outputId": "cf475108-090a-4d55-d66d-163a0a7e4363"
   },
   "outputs": [
    {
     "data": {
      "text/plain": [
       "'Full dataset would cost: $0.16'"
      ]
     },
     "execution_count": 27,
     "metadata": {},
     "output_type": "execute_result"
    }
   ],
   "source": [
    "## cost estimation for full dataset\n",
    "token_count_full = count_tokens_for_our_model(\"SAMPLE RESPONSE SAMPLE RESPONSE\".join(full_data_prompt_column))\n",
    "\"Full dataset would cost: ${:.2f}\".format(estimate_cost(MODEL_TO_USE, token_count_full))"
   ]
  },
  {
   "cell_type": "markdown",
   "id": "ed417fc0-5ba7-429d-b6f6-088fa88dc153",
   "metadata": {
    "id": "ed417fc0-5ba7-429d-b6f6-088fa88dc153"
   },
   "source": [
    "Below is the actual call to the OpenAI AI. Run your sample on the same model you want to use for your real data.\n",
    "\n",
    "**BUT FIRST**: adjust the categories below to match what you defined in your prompt."
   ]
  },
  {
   "cell_type": "code",
   "execution_count": 28,
   "id": "76c626d1-8f54-49d3-90c6-b89f1c2ff6d1",
   "metadata": {
    "id": "76c626d1-8f54-49d3-90c6-b89f1c2ff6d1"
   },
   "outputs": [],
   "source": [
    "## function to actually send the prompt to OpenAI and get the answer\n",
    "from pydantic import BaseModel\n",
    "\n",
    "\n",
    "class NYPDValidDecisionOptions(BaseModel):\n",
    "  classification: NYPDDecisionOptions\n",
    "\n",
    "\n",
    "def classify(prompt_including_description):\n",
    "\n",
    "    # put our prompt into the blob that OpenAI expects\n",
    "    messages = [\n",
    "        {\n",
    "            \"role\": \"system\",\n",
    "            \"content\": \"You are a helpful assistant.\",\n",
    "        },\n",
    "        {\n",
    "            \"role\": \"user\",\n",
    "            \"content\": prompt_including_description,\n",
    "        }\n",
    "    ]\n",
    "\n",
    "    chat_completion = client.responses.parse(\n",
    "        input=messages,\n",
    "        model='gpt-4o',\n",
    "        text_format=NYPDValidDecisionOptions,\n",
    "    )\n",
    "    # get the answer out of the blob that OpenAI returns.\n",
    "    resp = chat_completion.output_parsed.classification.value if chat_completion.output_parsed else None\n",
    "    return resp"
   ]
  },
  {
   "cell_type": "code",
   "execution_count": 29,
   "id": "8CQ-qzR7xTm-",
   "metadata": {
    "colab": {
     "base_uri": "https://localhost:8080/",
     "height": 49,
     "referenced_widgets": [
      "2a1f40e22dab49e59619b75b068311ed",
      "bd22c08e23f74a97bd9b6d30ad3e629e",
      "1c202960c61244c3b3a9b128a53ac700",
      "89b6f85eff98451c99fa81d03853a7e7",
      "10db3caf55c1404bb4ada294183f1cd8",
      "ab060f1f1417408d952378e91e7be4ae",
      "6faa69160f5c46d7abd22039598df8d5",
      "f13af9d3078a419e828072ce6162dc7d",
      "1b7a027efe1d4c4f877af963b9a5ee06",
      "2d50db3bf1fc48ac968933e1904c18b7",
      "b6bf529448424a8f8a3281550c90b3b3"
     ]
    },
    "id": "8CQ-qzR7xTm-",
    "outputId": "3b2ddcc7-04cc-4bdb-b925-24fc7d977b1a"
   },
   "outputs": [
    {
     "data": {
      "application/vnd.jupyter.widget-view+json": {
       "model_id": "51e759844f754a7f8c2365fb8275f70a",
       "version_major": 2,
       "version_minor": 0
      },
      "text/plain": [
       "  0%|          | 0/50 [00:00<?, ?it/s]"
      ]
     },
     "metadata": {},
     "output_type": "display_data"
    }
   ],
   "source": [
    "# ask ChatGPT about each and every tweet IN THE SAMPLE, using the prompt we made above\n",
    "\n",
    "data_sample[\"ai_guess\"] = data_sample_prompt_column.progress_apply(classify)"
   ]
  },
  {
   "cell_type": "code",
   "execution_count": null,
   "id": "qIqPluO0xBoL",
   "metadata": {
    "id": "qIqPluO0xBoL"
   },
   "outputs": [],
   "source": []
  },
  {
   "cell_type": "code",
   "execution_count": 30,
   "id": "SmShyhEXI1Vm",
   "metadata": {
    "colab": {
     "base_uri": "https://localhost:8080/",
     "height": 685
    },
    "id": "SmShyhEXI1Vm",
    "outputId": "ecd7fc38-6c84-419d-ef8e-82ec6532c07f"
   },
   "outputs": [
    {
     "data": {
      "text/markdown": [
       "## Here are a few results. How good did we do?"
      ],
      "text/plain": [
       "<IPython.core.display.Markdown object>"
      ]
     },
     "metadata": {},
     "output_type": "display_data"
    },
    {
     "data": {
      "text/html": [
       "<div>\n",
       "<style scoped>\n",
       "    .dataframe tbody tr th:only-of-type {\n",
       "        vertical-align: middle;\n",
       "    }\n",
       "\n",
       "    .dataframe tbody tr th {\n",
       "        vertical-align: top;\n",
       "    }\n",
       "\n",
       "    .dataframe thead th {\n",
       "        text-align: right;\n",
       "    }\n",
       "</style>\n",
       "<table border=\"1\" class=\"dataframe\">\n",
       "  <thead>\n",
       "    <tr style=\"text-align: right;\">\n",
       "      <th></th>\n",
       "      <th>Charge.description</th>\n",
       "      <th>ai_guess</th>\n",
       "    </tr>\n",
       "  </thead>\n",
       "  <tbody>\n",
       "    <tr>\n",
       "      <th>3988</th>\n",
       "      <td>WHILE OFF-DUTY, DID CONSUME AN INTOXICANT TO THE EXTENT THAT SAID POLICE OFFICER WAS UNFIT FOR DUTY.</td>\n",
       "      <td>other</td>\n",
       "    </tr>\n",
       "    <tr>\n",
       "      <th>3770</th>\n",
       "      <td>Failed to safeguard a firearm (resulting in loss/theft or not).</td>\n",
       "      <td>other</td>\n",
       "    </tr>\n",
       "    <tr>\n",
       "      <th>680</th>\n",
       "      <td>MADE FALSE/MISLEADING/INACCURATE STATEMENTS TO SUPERVISORS/INVESTIGATORS/ADA.</td>\n",
       "      <td>lying, falsifying reports or abusing position</td>\n",
       "    </tr>\n",
       "    <tr>\n",
       "      <th>3989</th>\n",
       "      <td>WHILE OFF-DUTY, DID FAIL TO REMAIN AT THE SCENE OF AN ACCIDENT.</td>\n",
       "      <td>driving</td>\n",
       "    </tr>\n",
       "    <tr>\n",
       "      <th>1653</th>\n",
       "      <td>FAILED TO RESIDE WITHIN THE CITY OF NEW YORK OR RESIDENCE COUNTIES AS REQUIRED.</td>\n",
       "      <td>other</td>\n",
       "    </tr>\n",
       "    <tr>\n",
       "      <th>3456</th>\n",
       "      <td>WHILE ON-DUTY, OFFICER WAS INVOLVED IN AN ON-DUTY VERBAL AND PHYSICAL ALTERCATION WITH ANOTHER MEMBER OF THE SERVICE.</td>\n",
       "      <td>use of force</td>\n",
       "    </tr>\n",
       "    <tr>\n",
       "      <th>535</th>\n",
       "      <td>WHILE ON-DUTY, FAILED AND NEGLECTED TO BE PROPERLY ATTIRED.</td>\n",
       "      <td>other</td>\n",
       "    </tr>\n",
       "    <tr>\n",
       "      <th>3067</th>\n",
       "      <td>WHILE OFF-DUTY, FAILED TO IDENTIFY HIMSELF AS A MEMBER OF THE NEW YORK CITY POLICE DEPARTMENT TO THE MEMBERS OF THE NASSAU COUNTY POLICE DEPARTMENT.</td>\n",
       "      <td>other</td>\n",
       "    </tr>\n",
       "    <tr>\n",
       "      <th>1143</th>\n",
       "      <td>FAILURE TO TERMINATE A VEHICLE PURSUIT.</td>\n",
       "      <td>driving</td>\n",
       "    </tr>\n",
       "    <tr>\n",
       "      <th>1977</th>\n",
       "      <td>FAILED TO SAFEGUARD HIS DEPARTMENT SHIELD AS REQUIRED.</td>\n",
       "      <td>lying, falsifying reports or abusing position</td>\n",
       "    </tr>\n",
       "  </tbody>\n",
       "</table>\n",
       "</div>"
      ],
      "text/plain": [
       "                                                                                                                                        Charge.description  \\\n",
       "3988                                                  WHILE OFF-DUTY, DID CONSUME AN INTOXICANT TO THE EXTENT THAT SAID POLICE OFFICER WAS UNFIT FOR DUTY.   \n",
       "3770                                                                                       Failed to safeguard a firearm (resulting in loss/theft or not).   \n",
       "680                                                                          MADE FALSE/MISLEADING/INACCURATE STATEMENTS TO SUPERVISORS/INVESTIGATORS/ADA.   \n",
       "3989                                                                                       WHILE OFF-DUTY, DID FAIL TO REMAIN AT THE SCENE OF AN ACCIDENT.   \n",
       "1653                                                                       FAILED TO RESIDE WITHIN THE CITY OF NEW YORK OR RESIDENCE COUNTIES AS REQUIRED.   \n",
       "3456                                 WHILE ON-DUTY, OFFICER WAS INVOLVED IN AN ON-DUTY VERBAL AND PHYSICAL ALTERCATION WITH ANOTHER MEMBER OF THE SERVICE.   \n",
       "535                                                                                            WHILE ON-DUTY, FAILED AND NEGLECTED TO BE PROPERLY ATTIRED.   \n",
       "3067  WHILE OFF-DUTY, FAILED TO IDENTIFY HIMSELF AS A MEMBER OF THE NEW YORK CITY POLICE DEPARTMENT TO THE MEMBERS OF THE NASSAU COUNTY POLICE DEPARTMENT.   \n",
       "1143                                                                                                               FAILURE TO TERMINATE A VEHICLE PURSUIT.   \n",
       "1977                                                                                                FAILED TO SAFEGUARD HIS DEPARTMENT SHIELD AS REQUIRED.   \n",
       "\n",
       "                                           ai_guess  \n",
       "3988                                          other  \n",
       "3770                                          other  \n",
       "680   lying, falsifying reports or abusing position  \n",
       "3989                                        driving  \n",
       "1653                                          other  \n",
       "3456                                   use of force  \n",
       "535                                           other  \n",
       "3067                                          other  \n",
       "1143                                        driving  \n",
       "1977  lying, falsifying reports or abusing position  "
      ]
     },
     "metadata": {},
     "output_type": "display_data"
    }
   ],
   "source": [
    "display(Markdown(\"## Here are a few results. How good did we do?\"))\n",
    "with pd.option_context(\"display.max_colwidth\", 500):\n",
    "  display(\n",
    "      data_sample[[text_column_name, \"ai_guess\"]].head(10)\n",
    "  )"
   ]
  },
  {
   "cell_type": "markdown",
   "id": "7bc06adb-9762-4b35-93b2-fb4ab2eea8ed",
   "metadata": {
    "id": "7bc06adb-9762-4b35-93b2-fb4ab2eea8ed"
   },
   "source": [
    "# Handcoding\n",
    "\n",
    "**Vibes are not enough**\n",
    "\n",
    "Here I manuallly check the sample results by categorizing each row of the data myself individually.\n",
    "\n",
    "Next, I tweaked the prompt several times to try to improve it."
   ]
  },
  {
   "cell_type": "code",
   "execution_count": 31,
   "id": "fCJrQXmWxuu2",
   "metadata": {
    "colab": {
     "base_uri": "https://localhost:8080/",
     "height": 17
    },
    "id": "fCJrQXmWxuu2",
    "outputId": "e09f67dd-7703-4838-dc9a-8bef295438b9"
   },
   "outputs": [],
   "source": [
    "# This adds a new blank 'groundtruth' column, then exports it to CSV, and downloads it.\n",
    "data_sample[\"groundtruth\"] = \"\"\n",
    "\n",
    "data_sample.to_csv('nypd_decisions_for_hand_classification.csv')\n",
    "#files.download('nypd_descisions_for_hand_classification.csv')"
   ]
  },
  {
   "cell_type": "markdown",
   "id": "RAvaQ0xoEqA9",
   "metadata": {
    "id": "RAvaQ0xoEqA9"
   },
   "source": [
    "Now open that CSV in Google Sheets or Excel, and fill in the `groundtruth` column with the right answer.\n",
    "\n",
    "Then upload it back here (by clicking the folder icon to the left), or, if you're using a Jupyter Notebook, put it in the same folder as your notebook. **Important** name the file `handcoded.csv`."
   ]
  },
  {
   "cell_type": "code",
   "execution_count": 32,
   "id": "rSDf0d_EiGGD",
   "metadata": {
    "id": "rSDf0d_EiGGD"
   },
   "outputs": [],
   "source": [
    "handcoded = pd.read_csv(\"handcoded.csv\")\n",
    "if \"groundtruth\" not in handcoded.columns:\n",
    "  print(\"uh oh, your handcoded.csv doesn't have a column named groundtruth\")\n",
    "  assert \"groundtruth\" in handcoded.columns\n",
    "if handcoded.groundtruth.isna().any():\n",
    "  print(\"uh oh, there are some blanks in your handcoded.csv's groundtruth column. go fix that!\")"
   ]
  },
  {
   "cell_type": "code",
   "execution_count": 33,
   "id": "vEKWJFTKEvk4",
   "metadata": {
    "colab": {
     "base_uri": "https://localhost:8080/",
     "height": 46
    },
    "id": "vEKWJFTKEvk4",
    "outputId": "baaa889c-673b-4ad6-e36f-ea1603ab5d67"
   },
   "outputs": [
    {
     "data": {
      "text/markdown": [
       "Accuracy score: 86.0%. Is that good?"
      ],
      "text/plain": [
       "<IPython.core.display.Markdown object>"
      ]
     },
     "metadata": {},
     "output_type": "display_data"
    }
   ],
   "source": [
    "from sklearn.metrics import accuracy_score\n",
    "display(Markdown(\"Accuracy score: {:.1%}. Is that good?\".format(\n",
    "    accuracy_score(handcoded[\"groundtruth\"], handcoded[\"ai_guess\"])\n",
    ")))\n"
   ]
  },
  {
   "cell_type": "markdown",
   "id": "RK3AXrTEGGxP",
   "metadata": {
    "id": "RK3AXrTEGGxP"
   },
   "source": [
    "# Stop here!\n",
    "## Different ways of measuring accuracy"
   ]
  },
  {
   "cell_type": "code",
   "execution_count": 34,
   "id": "jpsfWH8zEpPX",
   "metadata": {
    "colab": {
     "base_uri": "https://localhost:8080/",
     "height": 892
    },
    "id": "jpsfWH8zEpPX",
    "outputId": "45741090-5922-4e19-8065-a93f2bc2d1ec"
   },
   "outputs": [
    {
     "data": {
      "text/markdown": [
       "\n",
       "  This is a confusion matrix, that displays the count of each combo of possible answers and predictions.\n",
       "\n",
       "  What conclusion do we draw from this?\n",
       "\n",
       "  What kinds of errors are most common?\n",
       "  "
      ],
      "text/plain": [
       "<IPython.core.display.Markdown object>"
      ]
     },
     "metadata": {},
     "output_type": "display_data"
    },
    {
     "data": {
      "image/png": "[encoded data removed]",
      "text/plain": [
       "<Figure size 640x480 with 2 Axes>"
      ]
     },
     "metadata": {},
     "output_type": "display_data"
    }
   ],
   "source": [
    "from sklearn.metrics import ConfusionMatrixDisplay\n",
    "\n",
    "ConfusionMatrixDisplay.from_predictions(handcoded[\"groundtruth\"], handcoded[\"ai_guess\"],  xticks_rotation=\"vertical\");\n",
    "display(Markdown(\"\"\"\n",
    "  This is a confusion matrix, that displays the count of each combo of possible answers and predictions.\n",
    "\n",
    "  What conclusion do we draw from this?\n",
    "\n",
    "  What kinds of errors are most common?\n",
    "  \"\"\"))"
   ]
  },
  {
   "cell_type": "code",
   "execution_count": null,
   "id": "jSlZGLuaGJD0",
   "metadata": {
    "colab": {
     "base_uri": "https://localhost:8080/",
     "height": 93
    },
    "id": "jSlZGLuaGJD0",
    "outputId": "781c077a-0f7c-43d2-91be-4a10f6599b5c"
   },
   "outputs": [],
   "source": [
    "# calculate baseline\n",
    "accuracy = accuracy_score(handcoded[\"groundtruth\"], handcoded[\"ai_guess\"])\n",
    "most_common_answer = handcoded.groupby(\"groundtruth\").count().idxmax().ai_guess\n",
    "baseline = accuracy_score(handcoded[\"groundtruth\"], [most_common_answer] * len(handcoded[\"ai_guess\"]))\n",
    "\n",
    "\n",
    "display(Markdown(\"\"\"is {:.1%} good? Well, let's measure *model skill*. Is the AI _doing anything_?\n",
    "\n",
    "Let's compare it to the stupidest model possible, that just guesses the most common class ({}) for all outputs. That **baseline** is {:.1%}.\n",
    "\n",
    "How does {:.1%} compare to {:.1%}?\n",
    "\"\"\".format(\n",
    "    accuracy,\n",
    "    most_common_answer,\n",
    "    baseline,\n",
    "    accuracy,\n",
    "    baseline\n",
    ")))"
   ]
  },
  {
   "cell_type": "code",
   "execution_count": 35,
   "id": "SP21vSSYDM0k",
   "metadata": {
    "colab": {
     "base_uri": "https://localhost:8080/",
     "height": 685
    },
    "id": "SP21vSSYDM0k",
    "outputId": "c802b789-71da-467c-b6fe-b91849df4e45"
   },
   "outputs": [
    {
     "data": {
      "text/markdown": [
       "\n",
       "    The model is doing better than baseline.\n",
       "\n",
       "    But maybe we can do even better. Look at the model's mistakes below, adjust the prompt, and see if the accuracy score (or your chosen metric) goes up.\n",
       "  "
      ],
      "text/plain": [
       "<IPython.core.display.Markdown object>"
      ]
     },
     "metadata": {},
     "output_type": "display_data"
    },
    {
     "data": {
      "text/html": [
       "<div>\n",
       "<style scoped>\n",
       "    .dataframe tbody tr th:only-of-type {\n",
       "        vertical-align: middle;\n",
       "    }\n",
       "\n",
       "    .dataframe tbody tr th {\n",
       "        vertical-align: top;\n",
       "    }\n",
       "\n",
       "    .dataframe thead th {\n",
       "        text-align: right;\n",
       "    }\n",
       "</style>\n",
       "<table border=\"1\" class=\"dataframe\">\n",
       "  <thead>\n",
       "    <tr style=\"text-align: right;\">\n",
       "      <th></th>\n",
       "      <th>Charge.description</th>\n",
       "      <th>groundtruth</th>\n",
       "      <th>ai_guess</th>\n",
       "    </tr>\n",
       "  </thead>\n",
       "  <tbody>\n",
       "    <tr>\n",
       "      <th>9</th>\n",
       "      <td>FAILED TO SAFEGUARD HIS DEPARTMENT SHIELD AS REQUIRED.</td>\n",
       "      <td>other</td>\n",
       "      <td>lying, falsifying reports or abusing position</td>\n",
       "    </tr>\n",
       "    <tr>\n",
       "      <th>10</th>\n",
       "      <td>WHILE ON-DUTY, CONDUCTED A STRIP SEACH OF AN INDIVIDUAL KNOWN TO THE DEPARTMENT WITHOUT SUFFICIENT LEGAL AUTHORITY.</td>\n",
       "      <td>lying, falsifying reports or abusing position</td>\n",
       "      <td>other</td>\n",
       "    </tr>\n",
       "    <tr>\n",
       "      <th>20</th>\n",
       "      <td>FAILED TO MAINTAIN ACTIVITY LOG.</td>\n",
       "      <td>lying, falsifying reports or abusing position</td>\n",
       "      <td>other</td>\n",
       "    </tr>\n",
       "    <tr>\n",
       "      <th>22</th>\n",
       "      <td>SAID POLICE OFFICER, HAVING BEEN DIRECTED BY THE INTERNAL AFFAIRS BUREAU TO REFRAIN FROM ASSOCIATING WITH A PERSON KNOWN TO THE DEPARTMENT DUE TO HIS CRIMINAL HISTORY, DID FAIL AND NEGLECT TO COMPLY WITH SAID ORDER.</td>\n",
       "      <td>other</td>\n",
       "      <td>lying, falsifying reports or abusing position</td>\n",
       "    </tr>\n",
       "    <tr>\n",
       "      <th>30</th>\n",
       "      <td>Refused to submit to a breathalyzer.</td>\n",
       "      <td>driving</td>\n",
       "      <td>other</td>\n",
       "    </tr>\n",
       "    <tr>\n",
       "      <th>33</th>\n",
       "      <td>WHILE OFF-DUTY,  DID WRONGFULLY IMPEDE AN INVESTIGATION CONDUCTED BY CON EDISON.</td>\n",
       "      <td>other</td>\n",
       "      <td>lying, falsifying reports or abusing position</td>\n",
       "    </tr>\n",
       "    <tr>\n",
       "      <th>42</th>\n",
       "      <td>WHILE ON-DUTY AND UPON RECEIVING FOUND PROPERTY, DISCARDED THE FOUND PROPERTY IN A GARBAGE CAN.</td>\n",
       "      <td>other</td>\n",
       "      <td>lying, falsifying reports or abusing position</td>\n",
       "    </tr>\n",
       "  </tbody>\n",
       "</table>\n",
       "</div>"
      ],
      "text/plain": [
       "                                                                                                                                                                                                         Charge.description  \\\n",
       "9                                                                                                                                                                    FAILED TO SAFEGUARD HIS DEPARTMENT SHIELD AS REQUIRED.   \n",
       "10                                                                                                      WHILE ON-DUTY, CONDUCTED A STRIP SEACH OF AN INDIVIDUAL KNOWN TO THE DEPARTMENT WITHOUT SUFFICIENT LEGAL AUTHORITY.   \n",
       "20                                                                                                                                                                                         FAILED TO MAINTAIN ACTIVITY LOG.   \n",
       "22  SAID POLICE OFFICER, HAVING BEEN DIRECTED BY THE INTERNAL AFFAIRS BUREAU TO REFRAIN FROM ASSOCIATING WITH A PERSON KNOWN TO THE DEPARTMENT DUE TO HIS CRIMINAL HISTORY, DID FAIL AND NEGLECT TO COMPLY WITH SAID ORDER.   \n",
       "30                                                                                                                                                                                     Refused to submit to a breathalyzer.   \n",
       "33                                                                                                                                         WHILE OFF-DUTY,  DID WRONGFULLY IMPEDE AN INVESTIGATION CONDUCTED BY CON EDISON.   \n",
       "42                                                                                                                          WHILE ON-DUTY AND UPON RECEIVING FOUND PROPERTY, DISCARDED THE FOUND PROPERTY IN A GARBAGE CAN.   \n",
       "\n",
       "                                      groundtruth  \\\n",
       "9                                           other   \n",
       "10  lying, falsifying reports or abusing position   \n",
       "20  lying, falsifying reports or abusing position   \n",
       "22                                          other   \n",
       "30                                        driving   \n",
       "33                                          other   \n",
       "42                                          other   \n",
       "\n",
       "                                         ai_guess  \n",
       "9   lying, falsifying reports or abusing position  \n",
       "10                                          other  \n",
       "20                                          other  \n",
       "22  lying, falsifying reports or abusing position  \n",
       "30                                          other  \n",
       "33  lying, falsifying reports or abusing position  \n",
       "42  lying, falsifying reports or abusing position  "
      ]
     },
     "metadata": {},
     "output_type": "display_data"
    }
   ],
   "source": [
    "if accuracy <= baseline:\n",
    "  new_baseline = accuracy_score(handcoded[\"groundtruth\"], [\"NOT INSULTING US PLACE\"] * len(handcoded[\"2-way_category_ai\"]))\n",
    "\n",
    "  display(Markdown(\"\"\"\n",
    "    The model is doing worse than (or maybe even with) the baseline.\n",
    "\n",
    "    But that comparison treats false-positives and false-negatives as equally bad. That might not be right for your problem. For the insults problem,\n",
    "    all we want to do is shrink the haystack. A baseline that guesses nothing is an insult (as our baseline does) is useless to us. The real\n",
    "    baseline (reading all of Trump's tweets to find place insults) would be guessing the insult class for everything. That baseline gets {:.1%} --\n",
    "    way worse than {}. Phew.\n",
    "\n",
    "    This makes intuitive sense. An AI classification that shrinks the haystack, with a mixture of false-positives and true-positives for us to look at\n",
    "    is actually really helpful.\n",
    "  \"\"\".format(\n",
    "      new_baseline,\n",
    "      accuracy\n",
    "  )))\n",
    "else:\n",
    "  display(Markdown(\"\"\"\n",
    "    The model is doing better than baseline.\n",
    "\n",
    "    But maybe we can do even better. Look at the model's mistakes below, adjust the prompt, and see if the accuracy score (or your chosen metric) goes up.\n",
    "  \"\"\"))\n",
    "\n",
    "with pd.option_context(\"display.max_colwidth\", 500):\n",
    "  display(\n",
    "      handcoded[handcoded[\"ai_guess\"] != handcoded[\"groundtruth\"]][[\"Charge.description\", \"groundtruth\", \"ai_guess\"]]\n",
    "  )"
   ]
  },
  {
   "cell_type": "markdown",
   "id": "x_E1Iks-4sO4",
   "metadata": {
    "id": "x_E1Iks-4sO4"
   },
   "source": [
    "#### Suppose we only care about one topic.\n",
    "\n",
    "Maybe your editor decides that we don't care about politics anymore. Just whether Elon's tweets are about his companies. Now, we just have a true-false classification problem."
   ]
  },
  {
   "cell_type": "code",
   "execution_count": 36,
   "id": "cASteV4T4raF",
   "metadata": {
    "colab": {
     "base_uri": "https://localhost:8080/",
     "height": 546
    },
    "id": "cASteV4T4raF",
    "outputId": "75a73a65-3eb5-4af7-8454-898eb24f80e8"
   },
   "outputs": [
    {
     "data": {
      "text/markdown": [
       "\n",
       "  This is a confusion matrix, that displays the count of each combo of possible answers and predictions.\n",
       "\n",
       "  What conclusion do we draw from this?\n",
       "\n",
       "  What kinds of errors are most common?\n",
       "  "
      ],
      "text/plain": [
       "<IPython.core.display.Markdown object>"
      ]
     },
     "metadata": {},
     "output_type": "display_data"
    },
    {
     "data": {
      "image/png": "[encoded data removed]",
      "text/plain": [
       "<Figure size 640x480 with 2 Axes>"
      ]
     },
     "metadata": {},
     "output_type": "display_data"
    }
   ],
   "source": [
    "from sklearn.metrics import ConfusionMatrixDisplay\n",
    "\n",
    "ConfusionMatrixDisplay.from_predictions(handcoded[\"groundtruth\"] == NYPDDecisionOptions.driving, handcoded[\"ai_guess\"] == NYPDDecisionOptions.driving,  xticks_rotation=\"vertical\");\n",
    "display(Markdown(\"\"\"\n",
    "  This is a confusion matrix, that displays the count of each combo of possible answers and predictions.\n",
    "\n",
    "  What conclusion do we draw from this?\n",
    "\n",
    "  What kinds of errors are most common?\n",
    "  \"\"\"))"
   ]
  },
  {
   "cell_type": "markdown",
   "id": "CiberI6r5iIk",
   "metadata": {
    "id": "CiberI6r5iIk"
   },
   "source": [
    "The rate of false positives is how many non-company tweets we mistakenly said were about his companies.\n",
    "\n",
    "The rate of false negatives is how many company tweets we missed.\n",
    "\n",
    "The inverse of the false positive rate is the true positive rate, or **precision**.\n",
    "\n",
    "The inverse of the false negative rate is the true negative rate. That's **recall**.\n"
   ]
  },
  {
   "cell_type": "code",
   "execution_count": 155,
   "id": "SiAz8Y945Jrn",
   "metadata": {
    "colab": {
     "base_uri": "https://localhost:8080/",
     "height": 70
    },
    "id": "SiAz8Y945Jrn",
    "outputId": "46b42013-dd31-4ed6-bba3-a9611fdd7404"
   },
   "outputs": [
    {
     "data": {
      "text/markdown": [
       "Precision score: 100.0%. Is that good?"
      ],
      "text/plain": [
       "<IPython.core.display.Markdown object>"
      ]
     },
     "metadata": {},
     "output_type": "display_data"
    },
    {
     "data": {
      "text/markdown": [
       "Recall score: 88.9%. Is that good?"
      ],
      "text/plain": [
       "<IPython.core.display.Markdown object>"
      ]
     },
     "metadata": {},
     "output_type": "display_data"
    }
   ],
   "source": [
    "\n",
    "from sklearn.metrics import precision_score, recall_score\n",
    "display(Markdown(\"Precision score: {:.1%}. Is that good?\".format(\n",
    "    precision_score(handcoded[\"groundtruth\"] == NYPDDecisionOptions.driving, handcoded[\"ai_guess\"] == NYPDDecisionOptions.driving)\n",
    ")))\n",
    "\n",
    "\n",
    "from sklearn.metrics import precision_score, recall_score\n",
    "display(Markdown(\"Recall score: {:.1%}. Is that good?\".format(\n",
    "    recall_score(handcoded[\"groundtruth\"] == NYPDDecisionOptions.driving, handcoded[\"ai_guess\"] == NYPDDecisionOptions.driving)\n",
    ")))\n"
   ]
  },
  {
   "cell_type": "markdown",
   "id": "k7klu2_g5q_M",
   "metadata": {
    "id": "k7klu2_g5q_M"
   },
   "source": [
    "Which do we care about more? Precision or recall? (You tell me!)"
   ]
  },
  {
   "cell_type": "markdown",
   "id": "VWdAz2PLwb6g",
   "metadata": {
    "id": "VWdAz2PLwb6g"
   },
   "source": [
    "These concepts (accuracy, model skill, precision and recall) might be what you'd put in your methodology to prove that your AI was reliable enough. Can you think of situations where you'd use one or another?\n",
    "\n",
    "We're going to talk about how to improve our prompts (back in Powerpoint)\n",
    "\n",
    "## Try a new prompt\n",
    "\n",
    "And we will see if it does better or worse.\n",
    "\n",
    "To start out with, try one of these:\n",
    "\n",
    "- cajoling the model to do a better job\n",
    "\n",
    "- giving it some examples, based on the errors we saw above"
   ]
  },
  {
   "cell_type": "code",
   "execution_count": 49,
   "id": "ZaxUyoFe3mWe",
   "metadata": {
    "colab": {
     "base_uri": "https://localhost:8080/",
     "height": 35
    },
    "id": "ZaxUyoFe3mWe",
    "outputId": "9a0fbc2e-60b9-44cf-bec8-6177d78a2b6f"
   },
   "outputs": [
    {
     "data": {
      "text/plain": [
       "'Sample would cost: $0.01'"
      ]
     },
     "execution_count": 49,
     "metadata": {},
     "output_type": "execute_result"
    }
   ],
   "source": [
    "new_prompt_base = \"\"\"\n",
    "\n",
    "Please place this description of an administrative charge from the NYPD Trial Decision Library decisions into one of these categories, telling me\n",
    "only the category name. Choose only from these options: {categories}\n",
    "\n",
    "Here is the description: {description_text}\n",
    "\n",
    "Use these definitions: driving refers to any charges involving reckless operation of vehicles, using parking placards improperly, driving while under the influence\n",
    "of alcohol, or failing to report motor accidents. Force means any charge that involves a physical altercation or the word force, or inappropriate restraint.\n",
    "integrity means any situation where an officer made misleading statements, interfered with an investigation, used their authority improperly, falsified a report or failed to file one.\n",
    "\n",
    "Here is an example: Description: FAILED TO COOPERATE WITH A CCRB INVESTIGATION, TO WIT: HE PROVIDED INACCURATE OR MISLEADING STATEMENTS TO CCRB INVESTIGATORS REGARDING A POLICE ENCOUNTER HE HAD WITH A PERSON KNOWN TO THE DEPARTMENT. Classification: integrity\n",
    "\n",
    "Here is another example: Description: OPERATED A MOTOR VEHICLE IN A RECKLESS MANNER. Classification: driving\n",
    "\n",
    "\"\"\"\n",
    "\n",
    "data_sample_new_prompt_column = handcoded.apply(lambda row: new_prompt_base.format(\n",
    "    description_text=row[text_column_name],\n",
    "    categories=\", \".join(['\"{}\"'.format(opt.value) for opt in NYPDDecisionOptions])\n",
    "), axis=\"columns\")\n",
    "token_count_sample = count_tokens_for_our_model(\"SAMPLE RESPONSE SAMPLE RESPONSE\".join(data_sample_new_prompt_column))\n",
    "\"Sample would cost: ${:.2f}\".format(estimate_cost(MODEL_TO_USE, token_count_sample))\n",
    "\n"
   ]
  },
  {
   "cell_type": "code",
   "execution_count": 50,
   "id": "jyxoAqRJ3mmH",
   "metadata": {
    "colab": {
     "base_uri": "https://localhost:8080/",
     "height": 49,
     "referenced_widgets": [
      "f7b0e678d570454f8606014b88e239c5",
      "8bc818cd907a42cc9ded58bd42e7d692",
      "416af414370c4024bd27b2da13b09a3c",
      "029f3023e0fc4ad18ac283aee2d946e2",
      "02e2933c0cc64300bb1ddb057899f545",
      "2b5d59bad6554676bcf6ee7ce8289f2d",
      "ada2b8ecbd27475b874f590d7c035e15",
      "95eb3778996a43af91f29cb17d7036ce",
      "c7d98aab64b146de9e5b07f2bced4f2d",
      "4b12483df3ac4e7db62b5ff55f930dbc",
      "8363965eb2b34bce8262ae06ba46d067"
     ]
    },
    "id": "jyxoAqRJ3mmH",
    "outputId": "01c965f0-c1fa-4a5a-9dae-890bebb7c851"
   },
   "outputs": [
    {
     "data": {
      "application/vnd.jupyter.widget-view+json": {
       "model_id": "508f3f7c0c4d419f84316d0b491430f2",
       "version_major": 2,
       "version_minor": 0
      },
      "text/plain": [
       "  0%|          | 0/50 [00:00<?, ?it/s]"
      ]
     },
     "metadata": {},
     "output_type": "display_data"
    }
   ],
   "source": [
    "handcoded[\"new_ai_guess\"] = data_sample_new_prompt_column.progress_apply(classify)"
   ]
  },
  {
   "cell_type": "code",
   "execution_count": 51,
   "id": "PeW8rH9L4N8A",
   "metadata": {
    "id": "PeW8rH9L4N8A"
   },
   "outputs": [],
   "source": [
    "accuracy = accuracy_score(handcoded[\"groundtruth\"], handcoded[\"new_ai_guess\"])\n",
    "original_prompt_accuracy = accuracy_score(handcoded[\"groundtruth\"], handcoded[\"ai_guess\"])"
   ]
  },
  {
   "cell_type": "code",
   "execution_count": 52,
   "id": "2gZ3N0PH4YRz",
   "metadata": {
    "colab": {
     "base_uri": "https://localhost:8080/",
     "height": 116
    },
    "id": "2gZ3N0PH4YRz",
    "outputId": "d3e462e6-5870-4ad3-8a2b-e3c218b63544"
   },
   "outputs": [
    {
     "data": {
      "text/markdown": [
       "\n",
       "  Your new prompt got an accuracy rate of 0.92. Is that better than 0.86?\n",
       "\n",
       "  Should we be using a different metric? (You tell me!)\n",
       "\n",
       "  Keep trying new stuff until it's good enough (whatever that means!) or you get bored.\n",
       "\n",
       "  Then you can classify the whole dataset.\n"
      ],
      "text/plain": [
       "<IPython.core.display.Markdown object>"
      ]
     },
     "metadata": {},
     "output_type": "display_data"
    }
   ],
   "source": [
    "display(Markdown(\"\"\"\n",
    "  Your new prompt got an accuracy rate of {}. Is that better than {}?\n",
    "\n",
    "  Should we be using a different metric? (You tell me!)\n",
    "\n",
    "  Keep trying new stuff until it's good enough (whatever that means!) or you get bored.\n",
    "\n",
    "  Then you can classify the whole dataset.\n",
    "\"\"\".format(accuracy, original_prompt_accuracy)))"
   ]
  },
  {
   "cell_type": "code",
   "execution_count": null,
   "id": "2af4c82a-4ae6-493b-b706-77c3169c06f2",
   "metadata": {},
   "outputs": [],
   "source": [
    "## cost estimation for full dataset\n",
    "token_count_full = count_tokens_for_our_model(\"SAMPLE RESPONSE SAMPLE RESPONSE\".join(full_data_prompt_column))\n",
    "\"Full dataset would cost: ${:.2f}\".format(estimate_cost(MODEL_TO_USE, token_count_full))"
   ]
  },
  {
   "cell_type": "markdown",
   "id": "3U0jm_LucAs3",
   "metadata": {
    "id": "3U0jm_LucAs3"
   },
   "source": [
    "## Doing the whole thing\n",
    "\n",
    "Once we're ready, and we think we've accounted for most of the mistakes, we're ready to classify the WHOLE THING."
   ]
  },
  {
   "cell_type": "code",
   "execution_count": 53,
   "id": "gsezbkQPnrWE",
   "metadata": {
    "id": "gsezbkQPnrWE"
   },
   "outputs": [
    {
     "name": "stdin",
     "output_type": "stream",
     "text": [
      " \n"
     ]
    }
   ],
   "source": [
    "# since running the AI over the whole dataset might cost a real amount of money\n",
    "# this is just an extra check to make sure you want to do it.\n",
    "# just hit enter (or type anything) to continue\n",
    "# hit stop (to the left of this cell) to stop\n",
    "okay_to_do_the_whole_thing = input()"
   ]
  },
  {
   "cell_type": "code",
   "execution_count": 55,
   "id": "40435305-43cd-4789-8938-c568074d16ed",
   "metadata": {
    "id": "40435305-43cd-4789-8938-c568074d16ed"
   },
   "outputs": [],
   "source": [
    "## creating response generator -- full dataset\n",
    "\n",
    "# we're using the most recent \"new prompt\"\n",
    "\n",
    "data_full_prompt_column = new_prompt_base + data[text_column_name]"
   ]
  },
  {
   "cell_type": "code",
   "execution_count": 56,
   "id": "df00850d-61d1-4169-80b8-decbeb6c97e7",
   "metadata": {
    "colab": {
     "background_save": true
    },
    "id": "df00850d-61d1-4169-80b8-decbeb6c97e7"
   },
   "outputs": [
    {
     "data": {
      "application/vnd.jupyter.widget-view+json": {
       "model_id": "6bb835001dbf47e283bb63b236f625da",
       "version_major": 2,
       "version_minor": 0
      },
      "text/plain": [
       "  0%|          | 0/4534 [00:00<?, ?it/s]"
      ]
     },
     "metadata": {},
     "output_type": "display_data"
    },
    {
     "ename": "TypeError",
     "evalue": "bad operand type for unary +: 'str'",
     "output_type": "error",
     "traceback": [
      "\u001b[31m---------------------------------------------------------------------------\u001b[39m",
      "\u001b[31mTypeError\u001b[39m                                 Traceback (most recent call last)",
      "\u001b[36mCell\u001b[39m\u001b[36m \u001b[39m\u001b[32mIn[56]\u001b[39m\u001b[32m, line 4\u001b[39m\n\u001b[32m      1\u001b[39m \u001b[38;5;66;03m## classifying full prompt\u001b[39;00m\n\u001b[32m      3\u001b[39m data[\u001b[33m\"\u001b[39m\u001b[33mai_guess\u001b[39m\u001b[33m\"\u001b[39m] = data_full_prompt_column.progress_apply(classify)\n\u001b[32m----> \u001b[39m\u001b[32m4\u001b[39m data.to_csv( \u001b[43m+\u001b[49m\u001b[43m \u001b[49m\u001b[33;43m'\u001b[39;49m\u001b[33;43mnypd_internal_classified.csv\u001b[39;49m\u001b[33;43m'\u001b[39;49m)\n",
      "\u001b[31mTypeError\u001b[39m: bad operand type for unary +: 'str'"
     ]
    }
   ],
   "source": [
    "## classifying full prompt\n",
    "\n",
    "data[\"ai_guess\"] = data_full_prompt_column.progress_apply(classify)"
   ]
  },
  {
   "cell_type": "code",
   "execution_count": 58,
   "id": "6c16b771-3321-45a8-8fa2-6c7baaaf12d7",
   "metadata": {},
   "outputs": [],
   "source": [
    "data.to_csv('nypd_internal_classified.csv')"
   ]
  },
  {
   "cell_type": "code",
   "execution_count": 59,
   "id": "7e70e412-3dab-4f5c-8858-51d720faf8ee",
   "metadata": {},
   "outputs": [
    {
     "data": {
      "text/plain": [
       "ai_guess\n",
       "other                                            1771\n",
       "lying, falsifying reports or abusing position    1610\n",
       "driving                                           671\n",
       "use of force                                      482\n",
       "Name: count, dtype: int64"
      ]
     },
     "execution_count": 59,
     "metadata": {},
     "output_type": "execute_result"
    }
   ],
   "source": [
    "data.value_counts('ai_guess')"
   ]
  },
  {
   "cell_type": "code",
   "execution_count": 73,
   "id": "142ce7d0-ce1f-4d0e-b2b1-4373e3d5b00a",
   "metadata": {},
   "outputs": [
    {
     "data": {
      "text/plain": [
       "1654"
      ]
     },
     "execution_count": 73,
     "metadata": {},
     "output_type": "execute_result"
    }
   ],
   "source": [
    "data['Officer.Name'].nunique()"
   ]
  },
  {
   "cell_type": "code",
   "execution_count": 74,
   "id": "4dc8e968-12e1-4719-9d21-4cf5b7720c2f",
   "metadata": {},
   "outputs": [
    {
     "data": {
      "text/plain": [
       "1818"
      ]
     },
     "execution_count": 74,
     "metadata": {},
     "output_type": "execute_result"
    }
   ],
   "source": [
    "data['Case'].nunique()"
   ]
  },
  {
   "cell_type": "code",
   "execution_count": 75,
   "id": "7485a8d1-6697-4952-814f-8efe36c948b3",
   "metadata": {},
   "outputs": [
    {
     "data": {
      "text/plain": [
       "Series([], Name: count, dtype: int64)"
      ]
     },
     "execution_count": 75,
     "metadata": {},
     "output_type": "execute_result"
    }
   ],
   "source": [
    "data[data['Disposition']=='Guilty']['ai_guess'].value_counts()"
   ]
  },
  {
   "cell_type": "code",
   "execution_count": 76,
   "id": "9f8cfb83-a457-4515-9d77-2be0885246ba",
   "metadata": {},
   "outputs": [],
   "source": [
    "driving = data[data['ai_guess'] =='driving']"
   ]
  },
  {
   "cell_type": "code",
   "execution_count": 77,
   "id": "9623a6b2-672d-492e-b35e-ce6a74f106d9",
   "metadata": {},
   "outputs": [
    {
     "data": {
      "text/plain": [
       "336"
      ]
     },
     "execution_count": 77,
     "metadata": {},
     "output_type": "execute_result"
    }
   ],
   "source": [
    "driving['Case'].nunique()"
   ]
  },
  {
   "cell_type": "code",
   "execution_count": 67,
   "id": "690c16c1-5088-4df0-a558-06021e42ecf4",
   "metadata": {},
   "outputs": [],
   "source": [
    "driving.to_csv('driving_ai_guess.csv')"
   ]
  }
 ],
 "metadata": {
  "colab": {
   "provenance": []
  },
  "kernelspec": {
   "display_name": "Python 3 (ipykernel)",
   "language": "python",
   "name": "python3"
  },
  "language_info": {
   "codemirror_mode": {
    "name": "ipython",
    "version": 3
   },
   "file_extension": ".py",
   "mimetype": "text/x-python",
   "name": "python",
   "nbconvert_exporter": "python",
   "pygments_lexer": "ipython3",
   "version": "3.11.8"
  },
  "widgets": {
   "application/vnd.jupyter.widget-state+json": {
    "029f3023e0fc4ad18ac283aee2d946e2": {
     "model_module": "@jupyter-widgets/controls",
     "model_module_version": "1.5.0",
     "model_name": "HTMLModel",
     "state": {
      "_dom_classes": [],
      "_model_module": "@jupyter-widgets/controls",
      "_model_module_version": "1.5.0",
      "_model_name": "HTMLModel",
      "_view_count": null,
      "_view_module": "@jupyter-widgets/controls",
      "_view_module_version": "1.5.0",
      "_view_name": "HTMLView",
      "description": "",
      "description_tooltip": null,
      "layout": "IPY_MODEL_4b12483df3ac4e7db62b5ff55f930dbc",
      "placeholder": "​",
      "style": "IPY_MODEL_8363965eb2b34bce8262ae06ba46d067",
      "value": " 50/50 [01:03&lt;00:00,  1.25s/it]"
     }
    },
    "02e2933c0cc64300bb1ddb057899f545": {
     "model_module": "@jupyter-widgets/base",
     "model_module_version": "1.2.0",
     "model_name": "LayoutModel",
     "state": {
      "_model_module": "@jupyter-widgets/base",
      "_model_module_version": "1.2.0",
      "_model_name": "LayoutModel",
      "_view_count": null,
      "_view_module": "@jupyter-widgets/base",
      "_view_module_version": "1.2.0",
      "_view_name": "LayoutView",
      "align_content": null,
      "align_items": null,
      "align_self": null,
      "border": null,
      "bottom": null,
      "display": null,
      "flex": null,
      "flex_flow": null,
      "grid_area": null,
      "grid_auto_columns": null,
      "grid_auto_flow": null,
      "grid_auto_rows": null,
      "grid_column": null,
      "grid_gap": null,
      "grid_row": null,
      "grid_template_areas": null,
      "grid_template_columns": null,
      "grid_template_rows": null,
      "height": null,
      "justify_content": null,
      "justify_items": null,
      "left": null,
      "margin": null,
      "max_height": null,
      "max_width": null,
      "min_height": null,
      "min_width": null,
      "object_fit": null,
      "object_position": null,
      "order": null,
      "overflow": null,
      "overflow_x": null,
      "overflow_y": null,
      "padding": null,
      "right": null,
      "top": null,
      "visibility": null,
      "width": null
     }
    },
    "10db3caf55c1404bb4ada294183f1cd8": {
     "model_module": "@jupyter-widgets/base",
     "model_module_version": "1.2.0",
     "model_name": "LayoutModel",
     "state": {
      "_model_module": "@jupyter-widgets/base",
      "_model_module_version": "1.2.0",
      "_model_name": "LayoutModel",
      "_view_count": null,
      "_view_module": "@jupyter-widgets/base",
      "_view_module_version": "1.2.0",
      "_view_name": "LayoutView",
      "align_content": null,
      "align_items": null,
      "align_self": null,
      "border": null,
      "bottom": null,
      "display": null,
      "flex": null,
      "flex_flow": null,
      "grid_area": null,
      "grid_auto_columns": null,
      "grid_auto_flow": null,
      "grid_auto_rows": null,
      "grid_column": null,
      "grid_gap": null,
      "grid_row": null,
      "grid_template_areas": null,
      "grid_template_columns": null,
      "grid_template_rows": null,
      "height": null,
      "justify_content": null,
      "justify_items": null,
      "left": null,
      "margin": null,
      "max_height": null,
      "max_width": null,
      "min_height": null,
      "min_width": null,
      "object_fit": null,
      "object_position": null,
      "order": null,
      "overflow": null,
      "overflow_x": null,
      "overflow_y": null,
      "padding": null,
      "right": null,
      "top": null,
      "visibility": null,
      "width": null
     }
    },
    "1b7a027efe1d4c4f877af963b9a5ee06": {
     "model_module": "@jupyter-widgets/controls",
     "model_module_version": "1.5.0",
     "model_name": "ProgressStyleModel",
     "state": {
      "_model_module": "@jupyter-widgets/controls",
      "_model_module_version": "1.5.0",
      "_model_name": "ProgressStyleModel",
      "_view_count": null,
      "_view_module": "@jupyter-widgets/base",
      "_view_module_version": "1.2.0",
      "_view_name": "StyleView",
      "bar_color": null,
      "description_width": ""
     }
    },
    "1c202960c61244c3b3a9b128a53ac700": {
     "model_module": "@jupyter-widgets/controls",
     "model_module_version": "1.5.0",
     "model_name": "FloatProgressModel",
     "state": {
      "_dom_classes": [],
      "_model_module": "@jupyter-widgets/controls",
      "_model_module_version": "1.5.0",
      "_model_name": "FloatProgressModel",
      "_view_count": null,
      "_view_module": "@jupyter-widgets/controls",
      "_view_module_version": "1.5.0",
      "_view_name": "ProgressView",
      "bar_style": "success",
      "description": "",
      "description_tooltip": null,
      "layout": "IPY_MODEL_f13af9d3078a419e828072ce6162dc7d",
      "max": 50,
      "min": 0,
      "orientation": "horizontal",
      "style": "IPY_MODEL_1b7a027efe1d4c4f877af963b9a5ee06",
      "value": 50
     }
    },
    "2a1f40e22dab49e59619b75b068311ed": {
     "model_module": "@jupyter-widgets/controls",
     "model_module_version": "1.5.0",
     "model_name": "HBoxModel",
     "state": {
      "_dom_classes": [],
      "_model_module": "@jupyter-widgets/controls",
      "_model_module_version": "1.5.0",
      "_model_name": "HBoxModel",
      "_view_count": null,
      "_view_module": "@jupyter-widgets/controls",
      "_view_module_version": "1.5.0",
      "_view_name": "HBoxView",
      "box_style": "",
      "children": [
       "IPY_MODEL_bd22c08e23f74a97bd9b6d30ad3e629e",
       "IPY_MODEL_1c202960c61244c3b3a9b128a53ac700",
       "IPY_MODEL_89b6f85eff98451c99fa81d03853a7e7"
      ],
      "layout": "IPY_MODEL_10db3caf55c1404bb4ada294183f1cd8"
     }
    },
    "2b5d59bad6554676bcf6ee7ce8289f2d": {
     "model_module": "@jupyter-widgets/base",
     "model_module_version": "1.2.0",
     "model_name": "LayoutModel",
     "state": {
      "_model_module": "@jupyter-widgets/base",
      "_model_module_version": "1.2.0",
      "_model_name": "LayoutModel",
      "_view_count": null,
      "_view_module": "@jupyter-widgets/base",
      "_view_module_version": "1.2.0",
      "_view_name": "LayoutView",
      "align_content": null,
      "align_items": null,
      "align_self": null,
      "border": null,
      "bottom": null,
      "display": null,
      "flex": null,
      "flex_flow": null,
      "grid_area": null,
      "grid_auto_columns": null,
      "grid_auto_flow": null,
      "grid_auto_rows": null,
      "grid_column": null,
      "grid_gap": null,
      "grid_row": null,
      "grid_template_areas": null,
      "grid_template_columns": null,
      "grid_template_rows": null,
      "height": null,
      "justify_content": null,
      "justify_items": null,
      "left": null,
      "margin": null,
      "max_height": null,
      "max_width": null,
      "min_height": null,
      "min_width": null,
      "object_fit": null,
      "object_position": null,
      "order": null,
      "overflow": null,
      "overflow_x": null,
      "overflow_y": null,
      "padding": null,
      "right": null,
      "top": null,
      "visibility": null,
      "width": null
     }
    },
    "2d50db3bf1fc48ac968933e1904c18b7": {
     "model_module": "@jupyter-widgets/base",
     "model_module_version": "1.2.0",
     "model_name": "LayoutModel",
     "state": {
      "_model_module": "@jupyter-widgets/base",
      "_model_module_version": "1.2.0",
      "_model_name": "LayoutModel",
      "_view_count": null,
      "_view_module": "@jupyter-widgets/base",
      "_view_module_version": "1.2.0",
      "_view_name": "LayoutView",
      "align_content": null,
      "align_items": null,
      "align_self": null,
      "border": null,
      "bottom": null,
      "display": null,
      "flex": null,
      "flex_flow": null,
      "grid_area": null,
      "grid_auto_columns": null,
      "grid_auto_flow": null,
      "grid_auto_rows": null,
      "grid_column": null,
      "grid_gap": null,
      "grid_row": null,
      "grid_template_areas": null,
      "grid_template_columns": null,
      "grid_template_rows": null,
      "height": null,
      "justify_content": null,
      "justify_items": null,
      "left": null,
      "margin": null,
      "max_height": null,
      "max_width": null,
      "min_height": null,
      "min_width": null,
      "object_fit": null,
      "object_position": null,
      "order": null,
      "overflow": null,
      "overflow_x": null,
      "overflow_y": null,
      "padding": null,
      "right": null,
      "top": null,
      "visibility": null,
      "width": null
     }
    },
    "416af414370c4024bd27b2da13b09a3c": {
     "model_module": "@jupyter-widgets/controls",
     "model_module_version": "1.5.0",
     "model_name": "FloatProgressModel",
     "state": {
      "_dom_classes": [],
      "_model_module": "@jupyter-widgets/controls",
      "_model_module_version": "1.5.0",
      "_model_name": "FloatProgressModel",
      "_view_count": null,
      "_view_module": "@jupyter-widgets/controls",
      "_view_module_version": "1.5.0",
      "_view_name": "ProgressView",
      "bar_style": "success",
      "description": "",
      "description_tooltip": null,
      "layout": "IPY_MODEL_95eb3778996a43af91f29cb17d7036ce",
      "max": 50,
      "min": 0,
      "orientation": "horizontal",
      "style": "IPY_MODEL_c7d98aab64b146de9e5b07f2bced4f2d",
      "value": 50
     }
    },
    "4b12483df3ac4e7db62b5ff55f930dbc": {
     "model_module": "@jupyter-widgets/base",
     "model_module_version": "1.2.0",
     "model_name": "LayoutModel",
     "state": {
      "_model_module": "@jupyter-widgets/base",
      "_model_module_version": "1.2.0",
      "_model_name": "LayoutModel",
      "_view_count": null,
      "_view_module": "@jupyter-widgets/base",
      "_view_module_version": "1.2.0",
      "_view_name": "LayoutView",
      "align_content": null,
      "align_items": null,
      "align_self": null,
      "border": null,
      "bottom": null,
      "display": null,
      "flex": null,
      "flex_flow": null,
      "grid_area": null,
      "grid_auto_columns": null,
      "grid_auto_flow": null,
      "grid_auto_rows": null,
      "grid_column": null,
      "grid_gap": null,
      "grid_row": null,
      "grid_template_areas": null,
      "grid_template_columns": null,
      "grid_template_rows": null,
      "height": null,
      "justify_content": null,
      "justify_items": null,
      "left": null,
      "margin": null,
      "max_height": null,
      "max_width": null,
      "min_height": null,
      "min_width": null,
      "object_fit": null,
      "object_position": null,
      "order": null,
      "overflow": null,
      "overflow_x": null,
      "overflow_y": null,
      "padding": null,
      "right": null,
      "top": null,
      "visibility": null,
      "width": null
     }
    },
    "6faa69160f5c46d7abd22039598df8d5": {
     "model_module": "@jupyter-widgets/controls",
     "model_module_version": "1.5.0",
     "model_name": "DescriptionStyleModel",
     "state": {
      "_model_module": "@jupyter-widgets/controls",
      "_model_module_version": "1.5.0",
      "_model_name": "DescriptionStyleModel",
      "_view_count": null,
      "_view_module": "@jupyter-widgets/base",
      "_view_module_version": "1.2.0",
      "_view_name": "StyleView",
      "description_width": ""
     }
    },
    "8363965eb2b34bce8262ae06ba46d067": {
     "model_module": "@jupyter-widgets/controls",
     "model_module_version": "1.5.0",
     "model_name": "DescriptionStyleModel",
     "state": {
      "_model_module": "@jupyter-widgets/controls",
      "_model_module_version": "1.5.0",
      "_model_name": "DescriptionStyleModel",
      "_view_count": null,
      "_view_module": "@jupyter-widgets/base",
      "_view_module_version": "1.2.0",
      "_view_name": "StyleView",
      "description_width": ""
     }
    },
    "89b6f85eff98451c99fa81d03853a7e7": {
     "model_module": "@jupyter-widgets/controls",
     "model_module_version": "1.5.0",
     "model_name": "HTMLModel",
     "state": {
      "_dom_classes": [],
      "_model_module": "@jupyter-widgets/controls",
      "_model_module_version": "1.5.0",
      "_model_name": "HTMLModel",
      "_view_count": null,
      "_view_module": "@jupyter-widgets/controls",
      "_view_module_version": "1.5.0",
      "_view_name": "HTMLView",
      "description": "",
      "description_tooltip": null,
      "layout": "IPY_MODEL_2d50db3bf1fc48ac968933e1904c18b7",
      "placeholder": "​",
      "style": "IPY_MODEL_b6bf529448424a8f8a3281550c90b3b3",
      "value": " 50/50 [00:59&lt;00:00,  1.07s/it]"
     }
    },
    "8bc818cd907a42cc9ded58bd42e7d692": {
     "model_module": "@jupyter-widgets/controls",
     "model_module_version": "1.5.0",
     "model_name": "HTMLModel",
     "state": {
      "_dom_classes": [],
      "_model_module": "@jupyter-widgets/controls",
      "_model_module_version": "1.5.0",
      "_model_name": "HTMLModel",
      "_view_count": null,
      "_view_module": "@jupyter-widgets/controls",
      "_view_module_version": "1.5.0",
      "_view_name": "HTMLView",
      "description": "",
      "description_tooltip": null,
      "layout": "IPY_MODEL_2b5d59bad6554676bcf6ee7ce8289f2d",
      "placeholder": "​",
      "style": "IPY_MODEL_ada2b8ecbd27475b874f590d7c035e15",
      "value": "100%"
     }
    },
    "95eb3778996a43af91f29cb17d7036ce": {
     "model_module": "@jupyter-widgets/base",
     "model_module_version": "1.2.0",
     "model_name": "LayoutModel",
     "state": {
      "_model_module": "@jupyter-widgets/base",
      "_model_module_version": "1.2.0",
      "_model_name": "LayoutModel",
      "_view_count": null,
      "_view_module": "@jupyter-widgets/base",
      "_view_module_version": "1.2.0",
      "_view_name": "LayoutView",
      "align_content": null,
      "align_items": null,
      "align_self": null,
      "border": null,
      "bottom": null,
      "display": null,
      "flex": null,
      "flex_flow": null,
      "grid_area": null,
      "grid_auto_columns": null,
      "grid_auto_flow": null,
      "grid_auto_rows": null,
      "grid_column": null,
      "grid_gap": null,
      "grid_row": null,
      "grid_template_areas": null,
      "grid_template_columns": null,
      "grid_template_rows": null,
      "height": null,
      "justify_content": null,
      "justify_items": null,
      "left": null,
      "margin": null,
      "max_height": null,
      "max_width": null,
      "min_height": null,
      "min_width": null,
      "object_fit": null,
      "object_position": null,
      "order": null,
      "overflow": null,
      "overflow_x": null,
      "overflow_y": null,
      "padding": null,
      "right": null,
      "top": null,
      "visibility": null,
      "width": null
     }
    },
    "ab060f1f1417408d952378e91e7be4ae": {
     "model_module": "@jupyter-widgets/base",
     "model_module_version": "1.2.0",
     "model_name": "LayoutModel",
     "state": {
      "_model_module": "@jupyter-widgets/base",
      "_model_module_version": "1.2.0",
      "_model_name": "LayoutModel",
      "_view_count": null,
      "_view_module": "@jupyter-widgets/base",
      "_view_module_version": "1.2.0",
      "_view_name": "LayoutView",
      "align_content": null,
      "align_items": null,
      "align_self": null,
      "border": null,
      "bottom": null,
      "display": null,
      "flex": null,
      "flex_flow": null,
      "grid_area": null,
      "grid_auto_columns": null,
      "grid_auto_flow": null,
      "grid_auto_rows": null,
      "grid_column": null,
      "grid_gap": null,
      "grid_row": null,
      "grid_template_areas": null,
      "grid_template_columns": null,
      "grid_template_rows": null,
      "height": null,
      "justify_content": null,
      "justify_items": null,
      "left": null,
      "margin": null,
      "max_height": null,
      "max_width": null,
      "min_height": null,
      "min_width": null,
      "object_fit": null,
      "object_position": null,
      "order": null,
      "overflow": null,
      "overflow_x": null,
      "overflow_y": null,
      "padding": null,
      "right": null,
      "top": null,
      "visibility": null,
      "width": null
     }
    },
    "ada2b8ecbd27475b874f590d7c035e15": {
     "model_module": "@jupyter-widgets/controls",
     "model_module_version": "1.5.0",
     "model_name": "DescriptionStyleModel",
     "state": {
      "_model_module": "@jupyter-widgets/controls",
      "_model_module_version": "1.5.0",
      "_model_name": "DescriptionStyleModel",
      "_view_count": null,
      "_view_module": "@jupyter-widgets/base",
      "_view_module_version": "1.2.0",
      "_view_name": "StyleView",
      "description_width": ""
     }
    },
    "b6bf529448424a8f8a3281550c90b3b3": {
     "model_module": "@jupyter-widgets/controls",
     "model_module_version": "1.5.0",
     "model_name": "DescriptionStyleModel",
     "state": {
      "_model_module": "@jupyter-widgets/controls",
      "_model_module_version": "1.5.0",
      "_model_name": "DescriptionStyleModel",
      "_view_count": null,
      "_view_module": "@jupyter-widgets/base",
      "_view_module_version": "1.2.0",
      "_view_name": "StyleView",
      "description_width": ""
     }
    },
    "bd22c08e23f74a97bd9b6d30ad3e629e": {
     "model_module": "@jupyter-widgets/controls",
     "model_module_version": "1.5.0",
     "model_name": "HTMLModel",
     "state": {
      "_dom_classes": [],
      "_model_module": "@jupyter-widgets/controls",
      "_model_module_version": "1.5.0",
      "_model_name": "HTMLModel",
      "_view_count": null,
      "_view_module": "@jupyter-widgets/controls",
      "_view_module_version": "1.5.0",
      "_view_name": "HTMLView",
      "description": "",
      "description_tooltip": null,
      "layout": "IPY_MODEL_ab060f1f1417408d952378e91e7be4ae",
      "placeholder": "​",
      "style": "IPY_MODEL_6faa69160f5c46d7abd22039598df8d5",
      "value": "100%"
     }
    },
    "c7d98aab64b146de9e5b07f2bced4f2d": {
     "model_module": "@jupyter-widgets/controls",
     "model_module_version": "1.5.0",
     "model_name": "ProgressStyleModel",
     "state": {
      "_model_module": "@jupyter-widgets/controls",
      "_model_module_version": "1.5.0",
      "_model_name": "ProgressStyleModel",
      "_view_count": null,
      "_view_module": "@jupyter-widgets/base",
      "_view_module_version": "1.2.0",
      "_view_name": "StyleView",
      "bar_color": null,
      "description_width": ""
     }
    },
    "f13af9d3078a419e828072ce6162dc7d": {
     "model_module": "@jupyter-widgets/base",
     "model_module_version": "1.2.0",
     "model_name": "LayoutModel",
     "state": {
      "_model_module": "@jupyter-widgets/base",
      "_model_module_version": "1.2.0",
      "_model_name": "LayoutModel",
      "_view_count": null,
      "_view_module": "@jupyter-widgets/base",
      "_view_module_version": "1.2.0",
      "_view_name": "LayoutView",
      "align_content": null,
      "align_items": null,
      "align_self": null,
      "border": null,
      "bottom": null,
      "display": null,
      "flex": null,
      "flex_flow": null,
      "grid_area": null,
      "grid_auto_columns": null,
      "grid_auto_flow": null,
      "grid_auto_rows": null,
      "grid_column": null,
      "grid_gap": null,
      "grid_row": null,
      "grid_template_areas": null,
      "grid_template_columns": null,
      "grid_template_rows": null,
      "height": null,
      "justify_content": null,
      "justify_items": null,
      "left": null,
      "margin": null,
      "max_height": null,
      "max_width": null,
      "min_height": null,
      "min_width": null,
      "object_fit": null,
      "object_position": null,
      "order": null,
      "overflow": null,
      "overflow_x": null,
      "overflow_y": null,
      "padding": null,
      "right": null,
      "top": null,
      "visibility": null,
      "width": null
     }
    },
    "f7b0e678d570454f8606014b88e239c5": {
     "model_module": "@jupyter-widgets/controls",
     "model_module_version": "1.5.0",
     "model_name": "HBoxModel",
     "state": {
      "_dom_classes": [],
      "_model_module": "@jupyter-widgets/controls",
      "_model_module_version": "1.5.0",
      "_model_name": "HBoxModel",
      "_view_count": null,
      "_view_module": "@jupyter-widgets/controls",
      "_view_module_version": "1.5.0",
      "_view_name": "HBoxView",
      "box_style": "",
      "children": [
       "IPY_MODEL_8bc818cd907a42cc9ded58bd42e7d692",
       "IPY_MODEL_416af414370c4024bd27b2da13b09a3c",
       "IPY_MODEL_029f3023e0fc4ad18ac283aee2d946e2"
      ],
      "layout": "IPY_MODEL_02e2933c0cc64300bb1ddb057899f545"
     }
    }
   }
  }
 },
 "nbformat": 4,
 "nbformat_minor": 5
}

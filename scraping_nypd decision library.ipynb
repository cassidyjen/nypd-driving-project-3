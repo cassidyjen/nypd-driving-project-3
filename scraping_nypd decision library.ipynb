{
 "cells": [
  {
   "cell_type": "code",
   "execution_count": 19,
   "id": "15e6e581-454b-42c7-b6f7-7ac6125b4f7f",
   "metadata": {},
   "outputs": [],
   "source": [
    "import requests\n",
    "import pandas as pd\n",
    "import time\n",
    "import os\n",
    "import re"
   ]
  },
  {
   "cell_type": "code",
   "execution_count": 11,
   "id": "21d9340d-3665-4cc0-8466-ac24cfa6dfc8",
   "metadata": {},
   "outputs": [],
   "source": [
    "os.makedirs('data/', exist_ok=True)"
   ]
  },
  {
   "cell_type": "markdown",
   "id": "b638d3de-96e9-4da7-885a-27dbcdae6685",
   "metadata": {},
   "source": [
    "I tried scraping but it didn't work. Instead you can get it from an API!"
   ]
  },
  {
   "cell_type": "code",
   "execution_count": 12,
   "id": "b942e1a6-a921-4658-bc7b-7b17706b2348",
   "metadata": {},
   "outputs": [],
   "source": [
    "import requests"
   ]
  },
  {
   "cell_type": "markdown",
   "id": "529c0a00-a10c-4ed8-a014-959937112e50",
   "metadata": {},
   "source": [
    "#START HERE"
   ]
  },
  {
   "cell_type": "code",
   "execution_count": 14,
   "id": "b3378746-46db-4d99-87c3-ded69dacb4e0",
   "metadata": {},
   "outputs": [],
   "source": [
    "import requests\n",
    "\n",
    "headers = {\n",
    "    'accept': '*/*',\n",
    "    'accept-language': 'en',\n",
    "    'access-control-allow-credentials': 'true',\n",
    "    'access-control-allow-methods': '*',\n",
    "    'access-control-allow-origin': '*',\n",
    "    'content-type': 'application/json',\n",
    "    'origin': 'https://nypdonline.org',\n",
    "    'priority': 'u=1, i',\n",
    "    'referer': 'https://nypdonline.org/link/1016',\n",
    "    'sec-ch-ua': '\"Not)A;Brand\";v=\"8\", \"Chromium\";v=\"138\", \"Google Chrome\";v=\"138\"',\n",
    "    'sec-ch-ua-mobile': '?0',\n",
    "    'sec-ch-ua-platform': '\"macOS\"',\n",
    "    'sec-fetch-dest': 'empty',\n",
    "    'sec-fetch-mode': 'cors',\n",
    "    'sec-fetch-site': 'same-origin',\n",
    "    'user-agent': 'Mozilla/5.0 (Macintosh; Intel Mac OS X 10_15_7) AppleWebKit/537.36 (KHTML, like Gecko) Chrome/138.0.0.0 Safari/537.36',\n",
    "}\n",
    "\n",
    "json_data = [\n",
    "    {\n",
    "        'key': '@DocumentKeyword',\n",
    "        'values': [\n",
    "            '',\n",
    "        ],\n",
    "    },\n",
    "]\n",
    "\n",
    "response = requests.post(\n",
    "    'https://nypdonline.org/api/reports/ed551b4a-cd5c-4d8e-bcb9-a0478b4c5dea/data',\n",
    "    headers=headers,\n",
    "    json=json_data,\n",
    ")\n",
    "\n",
    "data = response.json()\n",
    "df = pd.DataFrame(data)\n",
    "df.to_csv(\"nypd_trial_decisions.csv\", index=False)"
   ]
  },
  {
   "cell_type": "code",
   "execution_count": 20,
   "id": "cf175307-f1a5-4fc4-b865-f06e9593be2b",
   "metadata": {},
   "outputs": [],
   "source": [
    "pd.json_normalize(data)\n",
    "df = pd.DataFrame(data)"
   ]
  },
  {
   "cell_type": "markdown",
   "id": "299f20cc-7037-41dd-986a-7f9d13c276ff",
   "metadata": {},
   "source": [
    "this uses an undocumented API and then cURL converter, then converst the json to a dataframe"
   ]
  },
  {
   "cell_type": "code",
   "execution_count": 21,
   "id": "0b581126-0bdb-4579-9f7d-393546992927",
   "metadata": {},
   "outputs": [
    {
     "data": {
      "text/plain": [
       "<bound method DataFrame.info of      filterKey                                            columns\n",
       "0       @TAXID  [{'value': '2025'}, {'value': 'July'}, {'value...\n",
       "1       @TAXID  [{'value': '2025'}, {'value': 'June'}, {'value...\n",
       "2       @TAXID  [{'value': '2025'}, {'value': 'June'}, {'value...\n",
       "3       @TAXID  [{'value': '2025'}, {'value': 'May'}, {'value'...\n",
       "4       @TAXID  [{'value': '2025'}, {'value': 'May'}, {'value'...\n",
       "...        ...                                                ...\n",
       "1730    @TAXID  [{'value': '2008'}, {'value': 'February'}, {'v...\n",
       "1731    @TAXID  [{'value': '2008'}, {'value': 'February'}, {'v...\n",
       "1732    @TAXID  [{'value': '2008'}, {'value': 'January'}, {'va...\n",
       "1733    @TAXID  [{'value': '2008'}, {'value': 'January'}, {'va...\n",
       "1734    @TAXID  [{'value': '2008'}, {'value': 'January'}, {'va...\n",
       "\n",
       "[1735 rows x 2 columns]>"
      ]
     },
     "execution_count": 21,
     "metadata": {},
     "output_type": "execute_result"
    }
   ],
   "source": [
    "df.info"
   ]
  },
  {
   "cell_type": "code",
   "execution_count": 22,
   "id": "1439fdd8-56fd-44ed-8851-a9622c940353",
   "metadata": {},
   "outputs": [
    {
     "data": {
      "text/html": [
       "<div>\n",
       "<style scoped>\n",
       "    .dataframe tbody tr th:only-of-type {\n",
       "        vertical-align: middle;\n",
       "    }\n",
       "\n",
       "    .dataframe tbody tr th {\n",
       "        vertical-align: top;\n",
       "    }\n",
       "\n",
       "    .dataframe thead th {\n",
       "        text-align: right;\n",
       "    }\n",
       "</style>\n",
       "<table border=\"1\" class=\"dataframe\">\n",
       "  <thead>\n",
       "    <tr style=\"text-align: right;\">\n",
       "      <th></th>\n",
       "      <th>filterKey</th>\n",
       "      <th>columns</th>\n",
       "    </tr>\n",
       "  </thead>\n",
       "  <tbody>\n",
       "    <tr>\n",
       "      <th>1730</th>\n",
       "      <td>@TAXID</td>\n",
       "      <td>[{'value': '2008'}, {'value': 'February'}, {'v...</td>\n",
       "    </tr>\n",
       "    <tr>\n",
       "      <th>1731</th>\n",
       "      <td>@TAXID</td>\n",
       "      <td>[{'value': '2008'}, {'value': 'February'}, {'v...</td>\n",
       "    </tr>\n",
       "    <tr>\n",
       "      <th>1732</th>\n",
       "      <td>@TAXID</td>\n",
       "      <td>[{'value': '2008'}, {'value': 'January'}, {'va...</td>\n",
       "    </tr>\n",
       "    <tr>\n",
       "      <th>1733</th>\n",
       "      <td>@TAXID</td>\n",
       "      <td>[{'value': '2008'}, {'value': 'January'}, {'va...</td>\n",
       "    </tr>\n",
       "    <tr>\n",
       "      <th>1734</th>\n",
       "      <td>@TAXID</td>\n",
       "      <td>[{'value': '2008'}, {'value': 'January'}, {'va...</td>\n",
       "    </tr>\n",
       "  </tbody>\n",
       "</table>\n",
       "</div>"
      ],
      "text/plain": [
       "     filterKey                                            columns\n",
       "1730    @TAXID  [{'value': '2008'}, {'value': 'February'}, {'v...\n",
       "1731    @TAXID  [{'value': '2008'}, {'value': 'February'}, {'v...\n",
       "1732    @TAXID  [{'value': '2008'}, {'value': 'January'}, {'va...\n",
       "1733    @TAXID  [{'value': '2008'}, {'value': 'January'}, {'va...\n",
       "1734    @TAXID  [{'value': '2008'}, {'value': 'January'}, {'va..."
      ]
     },
     "execution_count": 22,
     "metadata": {},
     "output_type": "execute_result"
    }
   ],
   "source": [
    "df.tail()"
   ]
  },
  {
   "cell_type": "code",
   "execution_count": 24,
   "id": "0930137b-f916-4866-97fd-fa45d996699b",
   "metadata": {},
   "outputs": [
    {
     "name": "stdout",
     "output_type": "stream",
     "text": [
      "   Year Month          Decision Date      Officer Name PDF Filename  \\\n",
      "0  2025  July   7/3/2025 12:00:00 AM  RIVERA, JONATHAN  2025021.pdf   \n",
      "1  2025  June  6/27/2025 12:00:00 AM     ROPER, KAMALA  2025028.pdf   \n",
      "2  2025  June  6/18/2025 12:00:00 AM       WARD, AISHA  2025027.pdf   \n",
      "3  2025   May  5/30/2025 12:00:00 AM    NUNEZ, OSVALDO  2025020.pdf   \n",
      "4  2025   May  5/23/2025 12:00:00 AM   BAGAN, WOJCIECH  2025026.pdf   \n",
      "\n",
      "                                             PDF URL  \n",
      "0  https://nypdonline.org/files/949550_07032025_2...  \n",
      "1  https://nypdonline.org/files/926029_06272025_2...  \n",
      "2  https://nypdonline.org/files/939673_06182025_2...  \n",
      "3  https://nypdonline.org/files/965374_05302025_2...  \n",
      "4  https://nypdonline.org/files/948637_05232025_2...  \n"
     ]
    }
   ],
   "source": [
    "def parse_row(row):\n",
    "    values = [item['value'] for item in row]\n",
    "    # Extract officer name from HTML\n",
    "    officer_match = re.search(r'>(.*?)<', values[3])\n",
    "    officer = officer_match.group(1).strip() if officer_match else values[3]\n",
    "    # Extract filename and URL from HTML\n",
    "    pdf_match = re.search(r'href=\"([^\"]+)\".*?>([^<]+)</a>', values[4])\n",
    "    pdf_url = f\"https://nypdonline.org{pdf_match.group(1)}\" if pdf_match else None\n",
    "    pdf_filename = pdf_match.group(2) if pdf_match else None\n",
    "\n",
    "    return {\n",
    "        'Year': values[0],\n",
    "        'Month': values[1],\n",
    "        'Decision Date': values[2],\n",
    "        'Officer Name': officer,\n",
    "        'PDF Filename': pdf_filename,\n",
    "        'PDF URL': pdf_url\n",
    "    }\n",
    "\n",
    "# Apply parsing to each row\n",
    "parsed_rows = df['columns'].apply(parse_row)\n",
    "df_clean = pd.DataFrame(parsed_rows.tolist())\n",
    "\n",
    "print(df_clean.head())"
   ]
  },
  {
   "cell_type": "code",
   "execution_count": 26,
   "id": "f2f693b7-150d-42ce-8265-2ac489f00ef3",
   "metadata": {},
   "outputs": [
    {
     "data": {
      "text/plain": [
       "<bound method DataFrame.info of       Year     Month          Decision Date        Officer Name PDF Filename  \\\n",
       "0     2025      July   7/3/2025 12:00:00 AM    RIVERA, JONATHAN  2025021.pdf   \n",
       "1     2025      June  6/27/2025 12:00:00 AM       ROPER, KAMALA  2025028.pdf   \n",
       "2     2025      June  6/18/2025 12:00:00 AM         WARD, AISHA  2025027.pdf   \n",
       "3     2025       May  5/30/2025 12:00:00 AM      NUNEZ, OSVALDO  2025020.pdf   \n",
       "4     2025       May  5/23/2025 12:00:00 AM     BAGAN, WOJCIECH  2025026.pdf   \n",
       "...    ...       ...                    ...                 ...          ...   \n",
       "1730  2008  February  2/11/2008 12:00:00 AM      MEJIA, EDILIO*  2008047.pdf   \n",
       "1731  2008  February   2/4/2008 12:00:00 AM      SANCHEZ, LUIS*  2008036.pdf   \n",
       "1732  2008   January  1/28/2008 12:00:00 AM       MARTE, MIGUEL  2008031.pdf   \n",
       "1733  2008   January  1/27/2008 12:00:00 AM    LESANE, SOLOMON*  2008044.pdf   \n",
       "1734  2008   January  1/23/2008 12:00:00 AM   ALEXANDER, BRIAN*  2008057.pdf   \n",
       "\n",
       "                                                PDF URL  \n",
       "0     https://nypdonline.org/files/949550_07032025_2...  \n",
       "1     https://nypdonline.org/files/926029_06272025_2...  \n",
       "2     https://nypdonline.org/files/939673_06182025_2...  \n",
       "3     https://nypdonline.org/files/965374_05302025_2...  \n",
       "4     https://nypdonline.org/files/948637_05232025_2...  \n",
       "...                                                 ...  \n",
       "1730  https://nypdonline.org/files/917023_02112008_2...  \n",
       "1731  https://nypdonline.org/files/912067_02042008_2...  \n",
       "1732  https://nypdonline.org/files/927135_01282008_2...  \n",
       "1733  https://nypdonline.org/files/917869_01272008_2...  \n",
       "1734  https://nypdonline.org/files/905673_01232008_2...  \n",
       "\n",
       "[1735 rows x 6 columns]>"
      ]
     },
     "execution_count": 26,
     "metadata": {},
     "output_type": "execute_result"
    }
   ],
   "source": [
    "df_clean.info"
   ]
  },
  {
   "cell_type": "code",
   "execution_count": 29,
   "id": "059878e9-5058-4f26-8b90-74e21a8b92ca",
   "metadata": {},
   "outputs": [],
   "source": [
    "df_clean.to_csv(\"nypd_trial_decisions_cleaned.csv\", index=False)"
   ]
  },
  {
   "cell_type": "code",
   "execution_count": 30,
   "id": "9efd107f-2faf-40a5-8f4b-8d93f3bf179e",
   "metadata": {},
   "outputs": [],
   "source": [
    "import requests\n",
    "import os\n",
    "\n",
    "os.makedirs(\"nypd_pdfs\", exist_ok=True)\n",
    "\n",
    "for i, row in df_clean.iterrows():\n",
    "    url = row['PDF URL']\n",
    "    filename = row['PDF Filename']\n",
    "\n",
    "    if url and filename:\n",
    "        response = requests.get(url)\n",
    "        if response.status_code == 200:\n",
    "            with open(os.path.join(\"nypd_pdfs\", filename), 'wb') as f:\n",
    "                f.write(response.content)"
   ]
  }
 ],
 "metadata": {
  "kernelspec": {
   "display_name": "Python 3 (ipykernel)",
   "language": "python",
   "name": "python3"
  },
  "language_info": {
   "codemirror_mode": {
    "name": "ipython",
    "version": 3
   },
   "file_extension": ".py",
   "mimetype": "text/x-python",
   "name": "python",
   "nbconvert_exporter": "python",
   "pygments_lexer": "ipython3",
   "version": "3.11.8"
  }
 },
 "nbformat": 4,
 "nbformat_minor": 5
}
